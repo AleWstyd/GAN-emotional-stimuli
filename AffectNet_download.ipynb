{
  "nbformat": 4,
  "nbformat_minor": 0,
  "metadata": {
    "colab": {
      "name": "AffectNet download ",
      "provenance": [],
      "mount_file_id": "1IMsfbeT8IeJVzXX18pbyBVx2Bc43O0HW",
      "authorship_tag": "ABX9TyPqDs6X8Lv0jn47ZAMED1IJ",
      "include_colab_link": true
    },
    "kernelspec": {
      "name": "python3",
      "display_name": "Python 3"
    }
  },
  "cells": [
    {
      "cell_type": "markdown",
      "metadata": {
        "id": "view-in-github",
        "colab_type": "text"
      },
      "source": [
        "<a href=\"https://colab.research.google.com/github/AleWstyd/GAN-emotional-stimuli/blob/main/AffectNet_download.ipynb\" target=\"_parent\"><img src=\"https://colab.research.google.com/assets/colab-badge.svg\" alt=\"Open In Colab\"/></a>"
      ]
    },
    {
      "cell_type": "code",
      "metadata": {
        "colab": {
          "base_uri": "https://localhost:8080/"
        },
        "id": "pcYkOjks9_pf",
        "outputId": "f82808d8-f948-460c-c5b2-b576c7a69bc4"
      },
      "source": [
        "!wget --post-data='resIds=71A021B981CFE85B!135228&canary=thCzhZfT08Um/pNjpZ7SpWZpK0cFEEBKIep+VbQ/vvA=6&authkey=!AAlcbDJKF2zErEQ' 'https://storage.live.com/downloadfiles/V1/Zip?authKey=%21AAlcbDJKF2zErEQ&application=1141147648'"
      ],
      "execution_count": null,
      "outputs": [
        {
          "output_type": "stream",
          "text": [
            "--2020-12-22 19:43:44--  https://storage.live.com/downloadfiles/V1/Zip?authKey=%21AAlcbDJKF2zErEQ&application=1141147648\n",
            "Resolving storage.live.com (storage.live.com)... 13.105.74.49\n",
            "Connecting to storage.live.com (storage.live.com)|13.105.74.49|:443... connected.\n",
            "HTTP request sent, awaiting response... 200 OK\n",
            "Length: unspecified [application/zip]\n",
            "Saving to: ‘Zip?authKey=!AAlcbDJKF2zErEQ&application=1141147648’\n",
            "\n",
            "Zip?authKey=!AAlcbD     [     <=>            ] 529.22M  1.20MB/s    in 7m 39s  \n",
            "\n",
            "2020-12-22 19:51:23 (1.15 MB/s) - ‘Zip?authKey=!AAlcbDJKF2zErEQ&application=1141147648’ saved [554923375]\n",
            "\n"
          ],
          "name": "stdout"
        }
      ]
    },
    {
      "cell_type": "code",
      "metadata": {
        "id": "0BP5g79mAkuF"
      },
      "source": [
        "import pandas as pd"
      ],
      "execution_count": null,
      "outputs": []
    },
    {
      "cell_type": "code",
      "metadata": {
        "colab": {
          "base_uri": "https://localhost:8080/"
        },
        "id": "iSukWztBAmVY",
        "outputId": "088b579c-fb90-4321-b061-decb071dd4bc"
      },
      "source": [
        "!unzip '/content/plik.csv'"
      ],
      "execution_count": null,
      "outputs": [
        {
          "output_type": "stream",
          "text": [
            "Archive:  /content/plik.csv\n",
            "caution: filename not matched:  /content/\n"
          ],
          "name": "stdout"
        }
      ]
    },
    {
      "cell_type": "code",
      "metadata": {
        "id": "FB5TI8EgArIF"
      },
      "source": [
        "df = pd.read_csv('/content/automatically_annotated.csv')"
      ],
      "execution_count": null,
      "outputs": []
    },
    {
      "cell_type": "code",
      "metadata": {
        "colab": {
          "base_uri": "https://localhost:8080/",
          "height": 197
        },
        "id": "LHsesbQlBRcS",
        "outputId": "221f75fc-59e7-42a3-90f8-ac602a220196"
      },
      "source": [
        "df.head(5)"
      ],
      "execution_count": null,
      "outputs": [
        {
          "output_type": "execute_result",
          "data": {
            "text/html": [
              "<div>\n",
              "<style scoped>\n",
              "    .dataframe tbody tr th:only-of-type {\n",
              "        vertical-align: middle;\n",
              "    }\n",
              "\n",
              "    .dataframe tbody tr th {\n",
              "        vertical-align: top;\n",
              "    }\n",
              "\n",
              "    .dataframe thead th {\n",
              "        text-align: right;\n",
              "    }\n",
              "</style>\n",
              "<table border=\"1\" class=\"dataframe\">\n",
              "  <thead>\n",
              "    <tr style=\"text-align: right;\">\n",
              "      <th></th>\n",
              "      <th>subDirectory_filePath</th>\n",
              "      <th>face_x</th>\n",
              "      <th>face_y</th>\n",
              "      <th>face_width</th>\n",
              "      <th>face_height</th>\n",
              "      <th>facial_landmarks</th>\n",
              "      <th>expression</th>\n",
              "      <th>valence</th>\n",
              "      <th>arousal</th>\n",
              "    </tr>\n",
              "  </thead>\n",
              "  <tbody>\n",
              "    <tr>\n",
              "      <th>0</th>\n",
              "      <td>324/27e086ee2eabdde2a009ce6d653862fd7d25097db9...</td>\n",
              "      <td>9</td>\n",
              "      <td>9</td>\n",
              "      <td>195</td>\n",
              "      <td>195</td>\n",
              "      <td>20.25;82.12;18.48;107.19;20.69;131.4;26.32;156...</td>\n",
              "      <td>1</td>\n",
              "      <td>0.685447</td>\n",
              "      <td>0.018762</td>\n",
              "    </tr>\n",
              "    <tr>\n",
              "      <th>1</th>\n",
              "      <td>213/b7a2d66132c29a1ce5096a5e1be2a19f0e78f89e8c...</td>\n",
              "      <td>48</td>\n",
              "      <td>48</td>\n",
              "      <td>325</td>\n",
              "      <td>325</td>\n",
              "      <td>106.82;245.68;104.14;273.39;105.97;298.86;114....</td>\n",
              "      <td>0</td>\n",
              "      <td>0.015911</td>\n",
              "      <td>0.119697</td>\n",
              "    </tr>\n",
              "    <tr>\n",
              "      <th>2</th>\n",
              "      <td>292/1e07c59017e7560116db9f359a03ec7a1bd1d71051...</td>\n",
              "      <td>106</td>\n",
              "      <td>106</td>\n",
              "      <td>709</td>\n",
              "      <td>709</td>\n",
              "      <td>221.42;428.83;207.09;492.61;205.37;558.31;209....</td>\n",
              "      <td>1</td>\n",
              "      <td>0.510148</td>\n",
              "      <td>0.089340</td>\n",
              "    </tr>\n",
              "    <tr>\n",
              "      <th>3</th>\n",
              "      <td>1453/e7bf4ba69a82b8de5d6f37604fb35272b4d3e4eff...</td>\n",
              "      <td>15</td>\n",
              "      <td>15</td>\n",
              "      <td>210</td>\n",
              "      <td>210</td>\n",
              "      <td>48.21;100.98;46.69;124.96;48.83;147.55;53.03;1...</td>\n",
              "      <td>2</td>\n",
              "      <td>-0.230435</td>\n",
              "      <td>-0.108574</td>\n",
              "    </tr>\n",
              "    <tr>\n",
              "      <th>4</th>\n",
              "      <td>1078/3b3277db30720c3621427a38567ba2ad6267c3a59...</td>\n",
              "      <td>23</td>\n",
              "      <td>23</td>\n",
              "      <td>157</td>\n",
              "      <td>157</td>\n",
              "      <td>29.32;81.59;29.63;102.4;31.04;122.26;33.46;141...</td>\n",
              "      <td>1</td>\n",
              "      <td>0.288721</td>\n",
              "      <td>0.008566</td>\n",
              "    </tr>\n",
              "  </tbody>\n",
              "</table>\n",
              "</div>"
            ],
            "text/plain": [
              "                               subDirectory_filePath  ...   arousal\n",
              "0  324/27e086ee2eabdde2a009ce6d653862fd7d25097db9...  ...  0.018762\n",
              "1  213/b7a2d66132c29a1ce5096a5e1be2a19f0e78f89e8c...  ...  0.119697\n",
              "2  292/1e07c59017e7560116db9f359a03ec7a1bd1d71051...  ...  0.089340\n",
              "3  1453/e7bf4ba69a82b8de5d6f37604fb35272b4d3e4eff...  ... -0.108574\n",
              "4  1078/3b3277db30720c3621427a38567ba2ad6267c3a59...  ...  0.008566\n",
              "\n",
              "[5 rows x 9 columns]"
            ]
          },
          "metadata": {
            "tags": []
          },
          "execution_count": 15
        }
      ]
    },
    {
      "cell_type": "code",
      "metadata": {
        "id": "HEJjOxroBd3g"
      },
      "source": [
        "row = df.iloc[[0]]"
      ],
      "execution_count": null,
      "outputs": []
    },
    {
      "cell_type": "code",
      "metadata": {
        "colab": {
          "base_uri": "https://localhost:8080/",
          "height": 35
        },
        "id": "s0fdxjozBpn6",
        "outputId": "fe87160f-f970-406c-e55d-887588936588"
      },
      "source": [
        "row['subDirectory_filePath'][0]"
      ],
      "execution_count": null,
      "outputs": [
        {
          "output_type": "execute_result",
          "data": {
            "application/vnd.google.colaboratory.intrinsic+json": {
              "type": "string"
            },
            "text/plain": [
              "'324/27e086ee2eabdde2a009ce6d653862fd7d25097db926239dd7295c5b.jpg'"
            ]
          },
          "metadata": {
            "tags": []
          },
          "execution_count": 19
        }
      ]
    },
    {
      "cell_type": "code",
      "metadata": {
        "colab": {
          "base_uri": "https://localhost:8080/"
        },
        "id": "kUyHLwO9Bwwl",
        "outputId": "e7e7e7f8-a07f-449f-b771-d8ee6988c6eb"
      },
      "source": [
        "!wget --post-data='resIds=71A021B981CFE85B%21135227&canary=thCzhZfT08Um%2FpNjpZ7SpWZpK0cFEEBKIep%2BVbQ%2FvvA%3D6&authkey=%21AAlcbDJKF2zErEQ' 'https://storage.live.com/downloadfiles/V1/Zip?authKey=%21AAlcbDJKF2zErEQ&application=1141147648'"
      ],
      "execution_count": null,
      "outputs": [
        {
          "output_type": "stream",
          "text": [
            "--2020-12-22 20:02:37--  https://storage.live.com/downloadfiles/V1/Zip?authKey=%21AAlcbDJKF2zErEQ&application=1141147648\n",
            "Resolving storage.live.com (storage.live.com)... 40.90.130.192\n",
            "Connecting to storage.live.com (storage.live.com)|40.90.130.192|:443... connected.\n",
            "HTTP request sent, awaiting response... 200 OK\n",
            "Length: unspecified [application/zip]\n",
            "Saving to: ‘Zip?authKey=!AAlcbDJKF2zErEQ&application=1141147648’\n",
            "\n",
            "=1141147648             [              <=>   ] 126.82M   460KB/s               ^C\n"
          ],
          "name": "stdout"
        }
      ]
    },
    {
      "cell_type": "code",
      "metadata": {
        "colab": {
          "base_uri": "https://localhost:8080/"
        },
        "id": "gLjpx1KsEWew",
        "outputId": "415e5d16-64fa-4653-d0cf-3c4c67ec5128"
      },
      "source": [
        "!wget --post-data='resIds=71A021B981CFE85B%21135231&canary=thCzhZfT08Um%2FpNjpZ7SpWZpK0cFEEBKIep%2BVbQ%2FvvA%3D6&authkey=%21AAlcbDJKF2zErEQ' 'https://storage.live.com/downloadfiles/V1/Zip?authKey=%21AAlcbDJKF2zErEQ&application=1141147648'"
      ],
      "execution_count": null,
      "outputs": [
        {
          "output_type": "stream",
          "text": [
            "--2021-01-05 17:35:10--  https://storage.live.com/downloadfiles/V1/Zip?authKey=%21AAlcbDJKF2zErEQ&application=1141147648\n",
            "Resolving storage.live.com (storage.live.com)... 40.90.136.20\n",
            "Connecting to storage.live.com (storage.live.com)|40.90.136.20|:443... connected.\n",
            "HTTP request sent, awaiting response... 200 OK\n",
            "Length: unspecified [application/zip]\n",
            "Saving to: ‘Zip?authKey=!AAlcbDJKF2zErEQ&application=1141147648’\n",
            "\n",
            "hKey=!AAlcbDJKF2zEr     [               <=>  ]  21.02M  1.15MB/s               ^C\n"
          ],
          "name": "stdout"
        }
      ]
    },
    {
      "cell_type": "code",
      "metadata": {
        "colab": {
          "base_uri": "https://localhost:8080/"
        },
        "id": "buGj-n8HUcrj",
        "outputId": "316412c7-1b09-44a2-c721-4982f6a03882"
      },
      "source": [
        "!unzip 'Zip?authKey=!AAlcbDJKF2zErEQ&application=1141147648.1'"
      ],
      "execution_count": null,
      "outputs": [
        {
          "output_type": "stream",
          "text": [
            "Archive:  Zip?authKey=!AAlcbDJKF2zErEQ&application=1141147648.1\n",
            " extracting: training.csv            \n",
            " extracting: validation.csv          \n"
          ],
          "name": "stdout"
        }
      ]
    },
    {
      "cell_type": "code",
      "metadata": {
        "id": "oWWJspntgn9n"
      },
      "source": [
        "df = pd.read_csv('/content/drive/MyDrive/training.csv')"
      ],
      "execution_count": null,
      "outputs": []
    },
    {
      "cell_type": "code",
      "metadata": {
        "colab": {
          "base_uri": "https://localhost:8080/",
          "height": 197
        },
        "id": "9Dj_eZ9pgso-",
        "outputId": "78bba0bd-382d-4991-fa8a-975344492a0e"
      },
      "source": [
        "df.head()"
      ],
      "execution_count": null,
      "outputs": [
        {
          "output_type": "execute_result",
          "data": {
            "text/html": [
              "<div>\n",
              "<style scoped>\n",
              "    .dataframe tbody tr th:only-of-type {\n",
              "        vertical-align: middle;\n",
              "    }\n",
              "\n",
              "    .dataframe tbody tr th {\n",
              "        vertical-align: top;\n",
              "    }\n",
              "\n",
              "    .dataframe thead th {\n",
              "        text-align: right;\n",
              "    }\n",
              "</style>\n",
              "<table border=\"1\" class=\"dataframe\">\n",
              "  <thead>\n",
              "    <tr style=\"text-align: right;\">\n",
              "      <th></th>\n",
              "      <th>subDirectory_filePath</th>\n",
              "      <th>face_x</th>\n",
              "      <th>face_y</th>\n",
              "      <th>face_width</th>\n",
              "      <th>face_height</th>\n",
              "      <th>facial_landmarks</th>\n",
              "      <th>expression</th>\n",
              "      <th>valence</th>\n",
              "      <th>arousal</th>\n",
              "    </tr>\n",
              "  </thead>\n",
              "  <tbody>\n",
              "    <tr>\n",
              "      <th>0</th>\n",
              "      <td>689/737db2483489148d783ef278f43f486c0a97e140fc...</td>\n",
              "      <td>134</td>\n",
              "      <td>134</td>\n",
              "      <td>899</td>\n",
              "      <td>899</td>\n",
              "      <td>181.64;530.91;188.32;627.82;195.1;723.37;205.2...</td>\n",
              "      <td>1</td>\n",
              "      <td>0.785714</td>\n",
              "      <td>-0.055556</td>\n",
              "    </tr>\n",
              "    <tr>\n",
              "      <th>1</th>\n",
              "      <td>392/c4db2f9b7e4b422d14b6e038f0cdc3ecee239b5532...</td>\n",
              "      <td>20</td>\n",
              "      <td>20</td>\n",
              "      <td>137</td>\n",
              "      <td>137</td>\n",
              "      <td>28.82;77.52;29.12;93.25;31.04;108.51;33.03;123...</td>\n",
              "      <td>0</td>\n",
              "      <td>-0.017253</td>\n",
              "      <td>0.004313</td>\n",
              "    </tr>\n",
              "    <tr>\n",
              "      <th>2</th>\n",
              "      <td>468/21772b68dc8c2a11678c8739eca33adb6ccc658600...</td>\n",
              "      <td>11</td>\n",
              "      <td>11</td>\n",
              "      <td>176</td>\n",
              "      <td>176</td>\n",
              "      <td>30.52;87.33;32.55;106.43;36.94;125.81;43.06;14...</td>\n",
              "      <td>0</td>\n",
              "      <td>0.174603</td>\n",
              "      <td>0.007937</td>\n",
              "    </tr>\n",
              "    <tr>\n",
              "      <th>3</th>\n",
              "      <td>944/06e9ae8d3b240eb68fa60534783eacafce2def60a8...</td>\n",
              "      <td>40</td>\n",
              "      <td>40</td>\n",
              "      <td>269</td>\n",
              "      <td>269</td>\n",
              "      <td>44.43;158.17;47.08;189.2;50.54;221.88;58.3;253...</td>\n",
              "      <td>1</td>\n",
              "      <td>0.153401</td>\n",
              "      <td>0.038890</td>\n",
              "    </tr>\n",
              "    <tr>\n",
              "      <th>4</th>\n",
              "      <td>993/02e06ee5521958b4042dd73abb444220609d96f57b...</td>\n",
              "      <td>22</td>\n",
              "      <td>22</td>\n",
              "      <td>153</td>\n",
              "      <td>153</td>\n",
              "      <td>50.59;78.72;48.6;93.23;48.72;109.06;48.8;123.0...</td>\n",
              "      <td>8</td>\n",
              "      <td>0.783972</td>\n",
              "      <td>-0.551684</td>\n",
              "    </tr>\n",
              "  </tbody>\n",
              "</table>\n",
              "</div>"
            ],
            "text/plain": [
              "                               subDirectory_filePath  ...   arousal\n",
              "0  689/737db2483489148d783ef278f43f486c0a97e140fc...  ... -0.055556\n",
              "1  392/c4db2f9b7e4b422d14b6e038f0cdc3ecee239b5532...  ...  0.004313\n",
              "2  468/21772b68dc8c2a11678c8739eca33adb6ccc658600...  ...  0.007937\n",
              "3  944/06e9ae8d3b240eb68fa60534783eacafce2def60a8...  ...  0.038890\n",
              "4  993/02e06ee5521958b4042dd73abb444220609d96f57b...  ... -0.551684\n",
              "\n",
              "[5 rows x 9 columns]"
            ]
          },
          "metadata": {
            "tags": []
          },
          "execution_count": 26
        }
      ]
    },
    {
      "cell_type": "code",
      "metadata": {
        "colab": {
          "base_uri": "https://localhost:8080/"
        },
        "id": "QHeJ-2grguOt",
        "outputId": "ba7942a5-c5de-4b3b-bd11-f7410eceb3fa"
      },
      "source": [
        "len(df)"
      ],
      "execution_count": null,
      "outputs": [
        {
          "output_type": "execute_result",
          "data": {
            "text/plain": [
              "414799"
            ]
          },
          "metadata": {
            "tags": []
          },
          "execution_count": 27
        }
      ]
    },
    {
      "cell_type": "code",
      "metadata": {
        "id": "_hESNy8Rl0O4"
      },
      "source": [
        "emotions = {0: 'Neutral', 1: 'Happy', 2: 'Sad', 3:\n",
        "'Surprise', 4: 'Fear', 5: 'Disgust', 6: 'Anger', 7: 'Contempt', 8: 'None', 9:\n",
        "'Uncertain', 10: 'No-Face'}"
      ],
      "execution_count": null,
      "outputs": []
    },
    {
      "cell_type": "code",
      "metadata": {
        "colab": {
          "base_uri": "https://localhost:8080/"
        },
        "id": "lW1MFv7RkdWX",
        "outputId": "e5f25831-cfaa-4a54-9ef6-353a36d27a7e"
      },
      "source": [
        "for i in range(11):\n",
        "  dlugosc = len(df[df['expression']==i])\n",
        "  print('{0:9} - length= {1}'.format(emotions[i],dlugosc))"
      ],
      "execution_count": null,
      "outputs": [
        {
          "output_type": "stream",
          "text": [
            "Neutral   - length= 74874\n",
            "Happy     - length= 134415\n",
            "Sad       - length= 25459\n",
            "Surprise  - length= 14090\n",
            "Fear      - length= 6378\n",
            "Disgust   - length= 3803\n",
            "Anger     - length= 24882\n",
            "Contempt  - length= 3750\n",
            "None      - length= 33088\n",
            "Uncertain - length= 11645\n",
            "No-Face   - length= 82415\n"
          ],
          "name": "stdout"
        }
      ]
    },
    {
      "cell_type": "code",
      "metadata": {
        "id": "5jcu25HkkjZh"
      },
      "source": [
        "auto_df = pd.read_csv('/content/drive/MyDrive/automatically_annotated.csv')"
      ],
      "execution_count": null,
      "outputs": []
    },
    {
      "cell_type": "code",
      "metadata": {
        "colab": {
          "base_uri": "https://localhost:8080/"
        },
        "id": "QFAnPD2bkwCU",
        "outputId": "12de7720-860a-4323-b8bd-93aa7362e80a"
      },
      "source": [
        "for i in range(11):\n",
        "  dlugosc = len(auto_df[auto_df['expression']==i])\n",
        "  print('{0:9} - length= {1}'.format(emotions[i],dlugosc))"
      ],
      "execution_count": null,
      "outputs": [
        {
          "output_type": "stream",
          "text": [
            "Neutral   - length= 143142\n",
            "Happy     - length= 246235\n",
            "Sad       - length= 20854\n",
            "Surprise  - length= 17462\n",
            "Fear      - length= 3799\n",
            "Disgust   - length= 890\n",
            "Anger     - length= 28000\n",
            "Contempt  - length= 2\n",
            "None      - length= 7259\n",
            "Uncertain - length= 1447\n",
            "No-Face   - length= 70517\n"
          ],
          "name": "stdout"
        }
      ]
    },
    {
      "cell_type": "code",
      "metadata": {
        "colab": {
          "base_uri": "https://localhost:8080/"
        },
        "id": "S212k3h41inl",
        "outputId": "7c97426f-4674-41c6-80e0-8419740dcfd7"
      },
      "source": [
        "#part 1\n",
        "!wget --header=\"Host: public.dm.files.1drv.com\" --header=\"User-Agent: Mozilla/5.0 (Windows NT 10.0; Win64; x64) AppleWebKit/537.36 (KHTML, like Gecko) Chrome/87.0.4280.88 Safari/537.36\" --header=\"Accept: text/html,application/xhtml+xml,application/xml;q=0.9,image/avif,image/webp,image/apng,*/*;q=0.8,application/signed-exchange;v=b3;q=0.9\" --header=\"Accept-Language: pl-PL,pl;q=0.9,en-US;q=0.8,en;q=0.7\" --header=\"Referer: https://onedrive.live.com/\" --header=\"Cookie: ANON=; NAP=; WLSRDSecAuth=FAByARQL3KgEDBNbW84gMYrDN0fBab7xkQNmAAAEgAAACE/KD/Cc983jMAEliLYqIrmgc/fas8pz1XyVOSsiycy8QIuxikfg2V3p5KrFDstIg1XBJeK1H5mczjpya1XneEh5rZX4rE2/KgUMaMCG2JBJwsg0BUz9Ex1GzBf6JBg7F%2BWnSMakchmSdCiFC1u/4J9zrrNQCBJtCKKqF3khkuD7UiQo%2BLRapLI4oUbBZwMj7j9v3YDu3MsnUhIh2dE/praDmy2qzVscw5/U17F/uCAbRJdAetUvXd6jlZdmTRxY5t%2BcuD4Z0CjDLWdNH5VVSQzzNP81gTnl/zAORKVj686RVzwihiThhy2ZWeMlcf8O61MpygnReD48/8nFsjs%2BGSfoMYwfztRuXpqejzZqjxt29R8EBHJDCvk99vKp0%2B57D7LvRin/AZ8WjPImSSQFGS2mJKc0erH3ndT2FADQpc4CKBZvVeeI2WzdJftXGb8kGQ%3D%3D\" --header=\"Connection: keep-alive\" \"https://public.dm.files.1drv.com/y4mvvFyJDN-Yp9Bx-9aIvqbvGd_Ee4jjHOaujg7tXvdBFuMKTLyURFvpjxqlLBdbVxtQxuCBT3dg_WO_MV0TixqCfD3XldAl_9l0CwklMQFGHSCab06YP_EmPqCnaKzbnsTAl3LQACHIv8_jSMImBiBjwvIHfgFqvzoH4b03D0UdF2bYExY9Yg712W9xzs52Fd91EYCGyCVMupMbsJ8IcfubQzw5pe7jUkINvigNWKz32o?access_token=EwAQA61DBAAUmcDj0azQ5tf1lkBfAvHLBzXl5ugAASO9is%2bFpWEGaekY21WlRmZQwWQzzpePKaXhi3fTfFuy0EsAYHWBz9T3oSlUVT%2blD%2bMzTaQJiqyQ8DAWOw8KwmAwCXo0mIno865FhM4zU4r5elcIAmPR7tnWCazr4DxS0PBgwPJpUPEFos4LKzgWaLcasFAmLZUPaSqR2ZybgFBvEMEVLZ1RJV1f4YmpKbol7sj3oPl3q%2b3XPxpvoBLOZ9EZXG95BxUX7CGClzgNt/WFkG3Zty56mvxuJybkEFAB7AnlduUqQH2to7FwlXDqbpY%2bsvdOV0xQVSlfjY2Av9Ne48DJnSz%2bIIgNPJ6eQ%2bo3zFQd3mUWr5dhcT4P77jGXmwDZgAACPSmR70i1gwy4AFwcxa0tBjzC%2bdGEb5QDkG2nHZURIN8GI2UAl5ZBp94UV9/6ASwZSFXs8KE8qi%2bP262DmrmkBjwzgP0j8jDtG/zZVsRW/DJs4M1dwpykt7nT5nYTT1QIUS1jLrXhh9kYLG1LpgYdfmh2cW9CHWfFwuO4W03p3eA5XBkwR%2bJAtEOVw8xzc2Pk9b%2bziPjGxJxN5fwoC/PjjDrhZBPkG2OKs03wN/Br7vEQfbYn8czm28nj6nsi7yvqtTwtFe8eNhzKkcs2DVVB5oL3mX0HZXfZCEBfgMme8ZzQ/UCax9mcYUg8OabBAf/QiT%2bWlf9wwj9EZPaBQtumq6YjlG0ZBdqQ6eReOpAvub1Oqvnb0DYOX3W/Q7WCS8K5tJSiiWyw9wdS8I8SjeDvKQ9ia5mnQr0R5uuS50VcK6s%2bzbJV0c7l05cPcUivpu%2bTDQxhRk%2bY5I%2b19bRMyXW1QpMi%2bjE%2buJhvQJUJGGIbqTF3VaSLXv2L6Rq04033jCrEuWtDIGzUsALbDdKNADN79X3oeYnbVmqQ%2benRVwdaDZ29jzqGZCZYAbXmvMP93/MOM9o3x0ZgF7dXuibSxNEhG8xs44CuFs2FN5ofVePMkoKjngCj9mbrKbqtCqI/k5QLDTxOb2LXhVWmUAjAg%3d%3d\" -c -O 'Manually_Annotated.part01.rar'"
      ],
      "execution_count": null,
      "outputs": [
        {
          "output_type": "stream",
          "text": [
            "--2021-01-05 20:56:03--  https://public.dm.files.1drv.com/y4mvvFyJDN-Yp9Bx-9aIvqbvGd_Ee4jjHOaujg7tXvdBFuMKTLyURFvpjxqlLBdbVxtQxuCBT3dg_WO_MV0TixqCfD3XldAl_9l0CwklMQFGHSCab06YP_EmPqCnaKzbnsTAl3LQACHIv8_jSMImBiBjwvIHfgFqvzoH4b03D0UdF2bYExY9Yg712W9xzs52Fd91EYCGyCVMupMbsJ8IcfubQzw5pe7jUkINvigNWKz32o?access_token=EwAQA61DBAAUmcDj0azQ5tf1lkBfAvHLBzXl5ugAASO9is%2bFpWEGaekY21WlRmZQwWQzzpePKaXhi3fTfFuy0EsAYHWBz9T3oSlUVT%2blD%2bMzTaQJiqyQ8DAWOw8KwmAwCXo0mIno865FhM4zU4r5elcIAmPR7tnWCazr4DxS0PBgwPJpUPEFos4LKzgWaLcasFAmLZUPaSqR2ZybgFBvEMEVLZ1RJV1f4YmpKbol7sj3oPl3q%2b3XPxpvoBLOZ9EZXG95BxUX7CGClzgNt/WFkG3Zty56mvxuJybkEFAB7AnlduUqQH2to7FwlXDqbpY%2bsvdOV0xQVSlfjY2Av9Ne48DJnSz%2bIIgNPJ6eQ%2bo3zFQd3mUWr5dhcT4P77jGXmwDZgAACPSmR70i1gwy4AFwcxa0tBjzC%2bdGEb5QDkG2nHZURIN8GI2UAl5ZBp94UV9/6ASwZSFXs8KE8qi%2bP262DmrmkBjwzgP0j8jDtG/zZVsRW/DJs4M1dwpykt7nT5nYTT1QIUS1jLrXhh9kYLG1LpgYdfmh2cW9CHWfFwuO4W03p3eA5XBkwR%2bJAtEOVw8xzc2Pk9b%2bziPjGxJxN5fwoC/PjjDrhZBPkG2OKs03wN/Br7vEQfbYn8czm28nj6nsi7yvqtTwtFe8eNhzKkcs2DVVB5oL3mX0HZXfZCEBfgMme8ZzQ/UCax9mcYUg8OabBAf/QiT%2bWlf9wwj9EZPaBQtumq6YjlG0ZBdqQ6eReOpAvub1Oqvnb0DYOX3W/Q7WCS8K5tJSiiWyw9wdS8I8SjeDvKQ9ia5mnQr0R5uuS50VcK6s%2bzbJV0c7l05cPcUivpu%2bTDQxhRk%2bY5I%2b19bRMyXW1QpMi%2bjE%2buJhvQJUJGGIbqTF3VaSLXv2L6Rq04033jCrEuWtDIGzUsALbDdKNADN79X3oeYnbVmqQ%2benRVwdaDZ29jzqGZCZYAbXmvMP93/MOM9o3x0ZgF7dXuibSxNEhG8xs44CuFs2FN5ofVePMkoKjngCj9mbrKbqtCqI/k5QLDTxOb2LXhVWmUAjAg%3d%3d\n",
            "Resolving public.dm.files.1drv.com (public.dm.files.1drv.com)... 13.107.42.12\n",
            "Connecting to public.dm.files.1drv.com (public.dm.files.1drv.com)|13.107.42.12|:443... connected.\n",
            "HTTP request sent, awaiting response... 200 OK\n",
            "Length: 5368709120 (5.0G) [application/x-rar-compressed]\n",
            "Saving to: ‘Manually_Annotated.part01.rar’\n",
            "\n",
            "Manually_Annotated. 100%[===================>]   5.00G  36.1MB/s    in 3m 13s  \n",
            "\n",
            "2021-01-05 20:59:17 (26.5 MB/s) - ‘Manually_Annotated.part01.rar’ saved [5368709120/5368709120]\n",
            "\n"
          ],
          "name": "stdout"
        }
      ]
    },
    {
      "cell_type": "code",
      "metadata": {
        "colab": {
          "base_uri": "https://localhost:8080/"
        },
        "id": "pJPbwux6VtiO",
        "outputId": "d8802ae0-768c-428e-f43e-bc113e738fe2"
      },
      "source": [
        "#part 2\n",
        "!wget --header=\"Host: public.dm.files.1drv.com\" --header=\"User-Agent: Mozilla/5.0 (Windows NT 10.0; Win64; x64) AppleWebKit/537.36 (KHTML, like Gecko) Chrome/87.0.4280.88 Safari/537.36\" --header=\"Accept: text/html,application/xhtml+xml,application/xml;q=0.9,image/avif,image/webp,image/apng,*/*;q=0.8,application/signed-exchange;v=b3;q=0.9\" --header=\"Accept-Language: pl-PL,pl;q=0.9,en-US;q=0.8,en;q=0.7\" --header=\"Referer: https://onedrive.live.com/\" --header=\"Cookie: ANON=; NAP=; WLSRDSecAuth=FAByARQL3KgEDBNbW84gMYrDN0fBab7xkQNmAAAEgAAACE/KD/Cc983jMAEliLYqIrmgc/fas8pz1XyVOSsiycy8QIuxikfg2V3p5KrFDstIg1XBJeK1H5mczjpya1XneEh5rZX4rE2/KgUMaMCG2JBJwsg0BUz9Ex1GzBf6JBg7F%2BWnSMakchmSdCiFC1u/4J9zrrNQCBJtCKKqF3khkuD7UiQo%2BLRapLI4oUbBZwMj7j9v3YDu3MsnUhIh2dE/praDmy2qzVscw5/U17F/uCAbRJdAetUvXd6jlZdmTRxY5t%2BcuD4Z0CjDLWdNH5VVSQzzNP81gTnl/zAORKVj686RVzwihiThhy2ZWeMlcf8O61MpygnReD48/8nFsjs%2BGSfoMYwfztRuXpqejzZqjxt29R8EBHJDCvk99vKp0%2B57D7LvRin/AZ8WjPImSSQFGS2mJKc0erH3ndT2FADQpc4CKBZvVeeI2WzdJftXGb8kGQ%3D%3D\" --header=\"Connection: keep-alive\" \"https://public.dm.files.1drv.com/y4mzh5sgSxfXQL5QtNv4WHM0h4VJf84UvUy80hl7vxkNIZWiXJ4pmuEZOkVmhD_hkM7YdytMl2HBKdk50dkLEIwDcu4GpOiOoDoYDszJXKdkb7RHjcw3rBnt32nB5j2eU8I4dbk9IxY946oyfqNr3vOjlgNFb46lXjfkBmgFWGCrGoWGBAr6LL7WVzJVVac_SxdOoK43-u8gDP4DrzMOAjcbTul4YaXy4SJ2XblAx3BpyU?access_token=EwAQA61DBAAUmcDj0azQ5tf1lkBfAvHLBzXl5ugAASO9is%2bFpWEGaekY21WlRmZQwWQzzpePKaXhi3fTfFuy0EsAYHWBz9T3oSlUVT%2blD%2bMzTaQJiqyQ8DAWOw8KwmAwCXo0mIno865FhM4zU4r5elcIAmPR7tnWCazr4DxS0PBgwPJpUPEFos4LKzgWaLcasFAmLZUPaSqR2ZybgFBvEMEVLZ1RJV1f4YmpKbol7sj3oPl3q%2b3XPxpvoBLOZ9EZXG95BxUX7CGClzgNt/WFkG3Zty56mvxuJybkEFAB7AnlduUqQH2to7FwlXDqbpY%2bsvdOV0xQVSlfjY2Av9Ne48DJnSz%2bIIgNPJ6eQ%2bo3zFQd3mUWr5dhcT4P77jGXmwDZgAACPSmR70i1gwy4AFwcxa0tBjzC%2bdGEb5QDkG2nHZURIN8GI2UAl5ZBp94UV9/6ASwZSFXs8KE8qi%2bP262DmrmkBjwzgP0j8jDtG/zZVsRW/DJs4M1dwpykt7nT5nYTT1QIUS1jLrXhh9kYLG1LpgYdfmh2cW9CHWfFwuO4W03p3eA5XBkwR%2bJAtEOVw8xzc2Pk9b%2bziPjGxJxN5fwoC/PjjDrhZBPkG2OKs03wN/Br7vEQfbYn8czm28nj6nsi7yvqtTwtFe8eNhzKkcs2DVVB5oL3mX0HZXfZCEBfgMme8ZzQ/UCax9mcYUg8OabBAf/QiT%2bWlf9wwj9EZPaBQtumq6YjlG0ZBdqQ6eReOpAvub1Oqvnb0DYOX3W/Q7WCS8K5tJSiiWyw9wdS8I8SjeDvKQ9ia5mnQr0R5uuS50VcK6s%2bzbJV0c7l05cPcUivpu%2bTDQxhRk%2bY5I%2b19bRMyXW1QpMi%2bjE%2buJhvQJUJGGIbqTF3VaSLXv2L6Rq04033jCrEuWtDIGzUsALbDdKNADN79X3oeYnbVmqQ%2benRVwdaDZ29jzqGZCZYAbXmvMP93/MOM9o3x0ZgF7dXuibSxNEhG8xs44CuFs2FN5ofVePMkoKjngCj9mbrKbqtCqI/k5QLDTxOb2LXhVWmUAjAg%3d%3d\" -c -O 'Manually_Annotated.part02.rar'"
      ],
      "execution_count": null,
      "outputs": [
        {
          "output_type": "stream",
          "text": [
            "--2021-01-05 20:59:18--  https://public.dm.files.1drv.com/y4mzh5sgSxfXQL5QtNv4WHM0h4VJf84UvUy80hl7vxkNIZWiXJ4pmuEZOkVmhD_hkM7YdytMl2HBKdk50dkLEIwDcu4GpOiOoDoYDszJXKdkb7RHjcw3rBnt32nB5j2eU8I4dbk9IxY946oyfqNr3vOjlgNFb46lXjfkBmgFWGCrGoWGBAr6LL7WVzJVVac_SxdOoK43-u8gDP4DrzMOAjcbTul4YaXy4SJ2XblAx3BpyU?access_token=EwAQA61DBAAUmcDj0azQ5tf1lkBfAvHLBzXl5ugAASO9is%2bFpWEGaekY21WlRmZQwWQzzpePKaXhi3fTfFuy0EsAYHWBz9T3oSlUVT%2blD%2bMzTaQJiqyQ8DAWOw8KwmAwCXo0mIno865FhM4zU4r5elcIAmPR7tnWCazr4DxS0PBgwPJpUPEFos4LKzgWaLcasFAmLZUPaSqR2ZybgFBvEMEVLZ1RJV1f4YmpKbol7sj3oPl3q%2b3XPxpvoBLOZ9EZXG95BxUX7CGClzgNt/WFkG3Zty56mvxuJybkEFAB7AnlduUqQH2to7FwlXDqbpY%2bsvdOV0xQVSlfjY2Av9Ne48DJnSz%2bIIgNPJ6eQ%2bo3zFQd3mUWr5dhcT4P77jGXmwDZgAACPSmR70i1gwy4AFwcxa0tBjzC%2bdGEb5QDkG2nHZURIN8GI2UAl5ZBp94UV9/6ASwZSFXs8KE8qi%2bP262DmrmkBjwzgP0j8jDtG/zZVsRW/DJs4M1dwpykt7nT5nYTT1QIUS1jLrXhh9kYLG1LpgYdfmh2cW9CHWfFwuO4W03p3eA5XBkwR%2bJAtEOVw8xzc2Pk9b%2bziPjGxJxN5fwoC/PjjDrhZBPkG2OKs03wN/Br7vEQfbYn8czm28nj6nsi7yvqtTwtFe8eNhzKkcs2DVVB5oL3mX0HZXfZCEBfgMme8ZzQ/UCax9mcYUg8OabBAf/QiT%2bWlf9wwj9EZPaBQtumq6YjlG0ZBdqQ6eReOpAvub1Oqvnb0DYOX3W/Q7WCS8K5tJSiiWyw9wdS8I8SjeDvKQ9ia5mnQr0R5uuS50VcK6s%2bzbJV0c7l05cPcUivpu%2bTDQxhRk%2bY5I%2b19bRMyXW1QpMi%2bjE%2buJhvQJUJGGIbqTF3VaSLXv2L6Rq04033jCrEuWtDIGzUsALbDdKNADN79X3oeYnbVmqQ%2benRVwdaDZ29jzqGZCZYAbXmvMP93/MOM9o3x0ZgF7dXuibSxNEhG8xs44CuFs2FN5ofVePMkoKjngCj9mbrKbqtCqI/k5QLDTxOb2LXhVWmUAjAg%3d%3d\n",
            "Resolving public.dm.files.1drv.com (public.dm.files.1drv.com)... 13.107.43.12\n",
            "Connecting to public.dm.files.1drv.com (public.dm.files.1drv.com)|13.107.43.12|:443... connected.\n",
            "HTTP request sent, awaiting response... 200 OK\n",
            "Length: 5368709120 (5.0G) [application/x-rar-compressed]\n",
            "Saving to: ‘Manually_Annotated.part02.rar’\n",
            "\n",
            "Manually_Annotated. 100%[===================>]   5.00G  32.7MB/s    in 2m 51s  \n",
            "\n",
            "2021-01-05 21:02:10 (30.0 MB/s) - ‘Manually_Annotated.part02.rar’ saved [5368709120/5368709120]\n",
            "\n"
          ],
          "name": "stdout"
        }
      ]
    },
    {
      "cell_type": "code",
      "metadata": {
        "colab": {
          "base_uri": "https://localhost:8080/"
        },
        "id": "pG4WN5IlVxa0",
        "outputId": "ba16b8d9-5a0b-4ff6-9b53-f53c4d28210e"
      },
      "source": [
        "#part 3\n",
        "!wget --header=\"Host: public.dm.files.1drv.com\" --header=\"User-Agent: Mozilla/5.0 (Windows NT 10.0; Win64; x64) AppleWebKit/537.36 (KHTML, like Gecko) Chrome/87.0.4280.88 Safari/537.36\" --header=\"Accept: text/html,application/xhtml+xml,application/xml;q=0.9,image/avif,image/webp,image/apng,*/*;q=0.8,application/signed-exchange;v=b3;q=0.9\" --header=\"Accept-Language: pl-PL,pl;q=0.9,en-US;q=0.8,en;q=0.7\" --header=\"Referer: https://onedrive.live.com/\" --header=\"Cookie: ANON=; NAP=; WLSRDSecAuth=FAByARQL3KgEDBNbW84gMYrDN0fBab7xkQNmAAAEgAAACE/KD/Cc983jMAEliLYqIrmgc/fas8pz1XyVOSsiycy8QIuxikfg2V3p5KrFDstIg1XBJeK1H5mczjpya1XneEh5rZX4rE2/KgUMaMCG2JBJwsg0BUz9Ex1GzBf6JBg7F%2BWnSMakchmSdCiFC1u/4J9zrrNQCBJtCKKqF3khkuD7UiQo%2BLRapLI4oUbBZwMj7j9v3YDu3MsnUhIh2dE/praDmy2qzVscw5/U17F/uCAbRJdAetUvXd6jlZdmTRxY5t%2BcuD4Z0CjDLWdNH5VVSQzzNP81gTnl/zAORKVj686RVzwihiThhy2ZWeMlcf8O61MpygnReD48/8nFsjs%2BGSfoMYwfztRuXpqejzZqjxt29R8EBHJDCvk99vKp0%2B57D7LvRin/AZ8WjPImSSQFGS2mJKc0erH3ndT2FADQpc4CKBZvVeeI2WzdJftXGb8kGQ%3D%3D\" --header=\"Connection: keep-alive\" \"https://public.dm.files.1drv.com/y4mvRvmNa8qzx2lpcdmfVb6OYSfQtwo9CuqMdQz8bxC4sT0miwx9bqapuGIoA2aetVFidKsSYRMWP2KB9Bba2qazFDCXH4j2-IzgsvSdy1GmW-HOpPeLGxRbg1HTFkEku4F0SPARMWWuPYNmtwAXTWLuEhtmElSnnbDHQ1F-OLxA_NgnDRBgojXbN8QlMp1l2iuTCdL312EDTod4UVQQXeYj6Q7KS5zswzBqs5NPrwLNgk?access_token=EwAQA61DBAAUmcDj0azQ5tf1lkBfAvHLBzXl5ugAASO9is%2bFpWEGaekY21WlRmZQwWQzzpePKaXhi3fTfFuy0EsAYHWBz9T3oSlUVT%2blD%2bMzTaQJiqyQ8DAWOw8KwmAwCXo0mIno865FhM4zU4r5elcIAmPR7tnWCazr4DxS0PBgwPJpUPEFos4LKzgWaLcasFAmLZUPaSqR2ZybgFBvEMEVLZ1RJV1f4YmpKbol7sj3oPl3q%2b3XPxpvoBLOZ9EZXG95BxUX7CGClzgNt/WFkG3Zty56mvxuJybkEFAB7AnlduUqQH2to7FwlXDqbpY%2bsvdOV0xQVSlfjY2Av9Ne48DJnSz%2bIIgNPJ6eQ%2bo3zFQd3mUWr5dhcT4P77jGXmwDZgAACPSmR70i1gwy4AFwcxa0tBjzC%2bdGEb5QDkG2nHZURIN8GI2UAl5ZBp94UV9/6ASwZSFXs8KE8qi%2bP262DmrmkBjwzgP0j8jDtG/zZVsRW/DJs4M1dwpykt7nT5nYTT1QIUS1jLrXhh9kYLG1LpgYdfmh2cW9CHWfFwuO4W03p3eA5XBkwR%2bJAtEOVw8xzc2Pk9b%2bziPjGxJxN5fwoC/PjjDrhZBPkG2OKs03wN/Br7vEQfbYn8czm28nj6nsi7yvqtTwtFe8eNhzKkcs2DVVB5oL3mX0HZXfZCEBfgMme8ZzQ/UCax9mcYUg8OabBAf/QiT%2bWlf9wwj9EZPaBQtumq6YjlG0ZBdqQ6eReOpAvub1Oqvnb0DYOX3W/Q7WCS8K5tJSiiWyw9wdS8I8SjeDvKQ9ia5mnQr0R5uuS50VcK6s%2bzbJV0c7l05cPcUivpu%2bTDQxhRk%2bY5I%2b19bRMyXW1QpMi%2bjE%2buJhvQJUJGGIbqTF3VaSLXv2L6Rq04033jCrEuWtDIGzUsALbDdKNADN79X3oeYnbVmqQ%2benRVwdaDZ29jzqGZCZYAbXmvMP93/MOM9o3x0ZgF7dXuibSxNEhG8xs44CuFs2FN5ofVePMkoKjngCj9mbrKbqtCqI/k5QLDTxOb2LXhVWmUAjAg%3d%3d\" -c -O 'Manually_Annotated.part03.rar'"
      ],
      "execution_count": null,
      "outputs": [
        {
          "output_type": "stream",
          "text": [
            "--2021-01-05 21:02:13--  https://public.dm.files.1drv.com/y4mvRvmNa8qzx2lpcdmfVb6OYSfQtwo9CuqMdQz8bxC4sT0miwx9bqapuGIoA2aetVFidKsSYRMWP2KB9Bba2qazFDCXH4j2-IzgsvSdy1GmW-HOpPeLGxRbg1HTFkEku4F0SPARMWWuPYNmtwAXTWLuEhtmElSnnbDHQ1F-OLxA_NgnDRBgojXbN8QlMp1l2iuTCdL312EDTod4UVQQXeYj6Q7KS5zswzBqs5NPrwLNgk?access_token=EwAQA61DBAAUmcDj0azQ5tf1lkBfAvHLBzXl5ugAASO9is%2bFpWEGaekY21WlRmZQwWQzzpePKaXhi3fTfFuy0EsAYHWBz9T3oSlUVT%2blD%2bMzTaQJiqyQ8DAWOw8KwmAwCXo0mIno865FhM4zU4r5elcIAmPR7tnWCazr4DxS0PBgwPJpUPEFos4LKzgWaLcasFAmLZUPaSqR2ZybgFBvEMEVLZ1RJV1f4YmpKbol7sj3oPl3q%2b3XPxpvoBLOZ9EZXG95BxUX7CGClzgNt/WFkG3Zty56mvxuJybkEFAB7AnlduUqQH2to7FwlXDqbpY%2bsvdOV0xQVSlfjY2Av9Ne48DJnSz%2bIIgNPJ6eQ%2bo3zFQd3mUWr5dhcT4P77jGXmwDZgAACPSmR70i1gwy4AFwcxa0tBjzC%2bdGEb5QDkG2nHZURIN8GI2UAl5ZBp94UV9/6ASwZSFXs8KE8qi%2bP262DmrmkBjwzgP0j8jDtG/zZVsRW/DJs4M1dwpykt7nT5nYTT1QIUS1jLrXhh9kYLG1LpgYdfmh2cW9CHWfFwuO4W03p3eA5XBkwR%2bJAtEOVw8xzc2Pk9b%2bziPjGxJxN5fwoC/PjjDrhZBPkG2OKs03wN/Br7vEQfbYn8czm28nj6nsi7yvqtTwtFe8eNhzKkcs2DVVB5oL3mX0HZXfZCEBfgMme8ZzQ/UCax9mcYUg8OabBAf/QiT%2bWlf9wwj9EZPaBQtumq6YjlG0ZBdqQ6eReOpAvub1Oqvnb0DYOX3W/Q7WCS8K5tJSiiWyw9wdS8I8SjeDvKQ9ia5mnQr0R5uuS50VcK6s%2bzbJV0c7l05cPcUivpu%2bTDQxhRk%2bY5I%2b19bRMyXW1QpMi%2bjE%2buJhvQJUJGGIbqTF3VaSLXv2L6Rq04033jCrEuWtDIGzUsALbDdKNADN79X3oeYnbVmqQ%2benRVwdaDZ29jzqGZCZYAbXmvMP93/MOM9o3x0ZgF7dXuibSxNEhG8xs44CuFs2FN5ofVePMkoKjngCj9mbrKbqtCqI/k5QLDTxOb2LXhVWmUAjAg%3d%3d\n",
            "Resolving public.dm.files.1drv.com (public.dm.files.1drv.com)... 13.107.42.12\n",
            "Connecting to public.dm.files.1drv.com (public.dm.files.1drv.com)|13.107.42.12|:443... connected.\n",
            "HTTP request sent, awaiting response... 200 OK\n",
            "Length: 5368709120 (5.0G) [application/x-rar-compressed]\n",
            "Saving to: ‘Manually_Annotated.part03.rar’\n",
            "\n",
            "Manually_Annotated. 100%[===================>]   5.00G  17.8MB/s    in 3m 55s  \n",
            "\n",
            "2021-01-05 21:06:10 (21.8 MB/s) - ‘Manually_Annotated.part03.rar’ saved [5368709120/5368709120]\n",
            "\n"
          ],
          "name": "stdout"
        }
      ]
    },
    {
      "cell_type": "code",
      "metadata": {
        "colab": {
          "base_uri": "https://localhost:8080/"
        },
        "id": "iXSBYQxTWTfc",
        "outputId": "c0988fc6-5138-4cb2-83a2-99f2b72bd1bc"
      },
      "source": [
        "#part 4\n",
        "!wget --header=\"Host: public.dm.files.1drv.com\" --header=\"User-Agent: Mozilla/5.0 (Windows NT 10.0; Win64; x64) AppleWebKit/537.36 (KHTML, like Gecko) Chrome/87.0.4280.88 Safari/537.36\" --header=\"Accept: text/html,application/xhtml+xml,application/xml;q=0.9,image/avif,image/webp,image/apng,*/*;q=0.8,application/signed-exchange;v=b3;q=0.9\" --header=\"Accept-Language: pl-PL,pl;q=0.9,en-US;q=0.8,en;q=0.7\" --header=\"Referer: https://onedrive.live.com/\" --header=\"Cookie: ANON=; NAP=; WLSRDSecAuth=FAByARQL3KgEDBNbW84gMYrDN0fBab7xkQNmAAAEgAAACE/KD/Cc983jMAEliLYqIrmgc/fas8pz1XyVOSsiycy8QIuxikfg2V3p5KrFDstIg1XBJeK1H5mczjpya1XneEh5rZX4rE2/KgUMaMCG2JBJwsg0BUz9Ex1GzBf6JBg7F%2BWnSMakchmSdCiFC1u/4J9zrrNQCBJtCKKqF3khkuD7UiQo%2BLRapLI4oUbBZwMj7j9v3YDu3MsnUhIh2dE/praDmy2qzVscw5/U17F/uCAbRJdAetUvXd6jlZdmTRxY5t%2BcuD4Z0CjDLWdNH5VVSQzzNP81gTnl/zAORKVj686RVzwihiThhy2ZWeMlcf8O61MpygnReD48/8nFsjs%2BGSfoMYwfztRuXpqejzZqjxt29R8EBHJDCvk99vKp0%2B57D7LvRin/AZ8WjPImSSQFGS2mJKc0erH3ndT2FADQpc4CKBZvVeeI2WzdJftXGb8kGQ%3D%3D\" --header=\"Connection: keep-alive\" \"https://public.dm.files.1drv.com/y4mPsb5da9_ov3BYSetRpHQA4lW-D7kKwadJqeRgmecWoezezGeQEYBDmnXo-QemsNpq_vacLgJJAlgg0vo67DAiln8Xvk7cmMU-eIfkXA1zeNtAEw19ZfjwYJtqyEzU2zPByrzkpSbEYXn9Ke-f3OHDrEabBUtHi6Z6c9QtB-N8Uk24CycVuDHAvKj3y3aP0cTOAFCEKp5GcEk0WvROnAg3THcNa7RPa_RsRcS0zHPSrg?access_token=EwAQA61DBAAUmcDj0azQ5tf1lkBfAvHLBzXl5ugAASO9is%2bFpWEGaekY21WlRmZQwWQzzpePKaXhi3fTfFuy0EsAYHWBz9T3oSlUVT%2blD%2bMzTaQJiqyQ8DAWOw8KwmAwCXo0mIno865FhM4zU4r5elcIAmPR7tnWCazr4DxS0PBgwPJpUPEFos4LKzgWaLcasFAmLZUPaSqR2ZybgFBvEMEVLZ1RJV1f4YmpKbol7sj3oPl3q%2b3XPxpvoBLOZ9EZXG95BxUX7CGClzgNt/WFkG3Zty56mvxuJybkEFAB7AnlduUqQH2to7FwlXDqbpY%2bsvdOV0xQVSlfjY2Av9Ne48DJnSz%2bIIgNPJ6eQ%2bo3zFQd3mUWr5dhcT4P77jGXmwDZgAACPSmR70i1gwy4AFwcxa0tBjzC%2bdGEb5QDkG2nHZURIN8GI2UAl5ZBp94UV9/6ASwZSFXs8KE8qi%2bP262DmrmkBjwzgP0j8jDtG/zZVsRW/DJs4M1dwpykt7nT5nYTT1QIUS1jLrXhh9kYLG1LpgYdfmh2cW9CHWfFwuO4W03p3eA5XBkwR%2bJAtEOVw8xzc2Pk9b%2bziPjGxJxN5fwoC/PjjDrhZBPkG2OKs03wN/Br7vEQfbYn8czm28nj6nsi7yvqtTwtFe8eNhzKkcs2DVVB5oL3mX0HZXfZCEBfgMme8ZzQ/UCax9mcYUg8OabBAf/QiT%2bWlf9wwj9EZPaBQtumq6YjlG0ZBdqQ6eReOpAvub1Oqvnb0DYOX3W/Q7WCS8K5tJSiiWyw9wdS8I8SjeDvKQ9ia5mnQr0R5uuS50VcK6s%2bzbJV0c7l05cPcUivpu%2bTDQxhRk%2bY5I%2b19bRMyXW1QpMi%2bjE%2buJhvQJUJGGIbqTF3VaSLXv2L6Rq04033jCrEuWtDIGzUsALbDdKNADN79X3oeYnbVmqQ%2benRVwdaDZ29jzqGZCZYAbXmvMP93/MOM9o3x0ZgF7dXuibSxNEhG8xs44CuFs2FN5ofVePMkoKjngCj9mbrKbqtCqI/k5QLDTxOb2LXhVWmUAjAg%3d%3d\" -c -O 'Manually_Annotated.part04.rar'"
      ],
      "execution_count": null,
      "outputs": [
        {
          "output_type": "stream",
          "text": [
            "--2021-01-05 21:07:39--  https://public.dm.files.1drv.com/y4mPsb5da9_ov3BYSetRpHQA4lW-D7kKwadJqeRgmecWoezezGeQEYBDmnXo-QemsNpq_vacLgJJAlgg0vo67DAiln8Xvk7cmMU-eIfkXA1zeNtAEw19ZfjwYJtqyEzU2zPByrzkpSbEYXn9Ke-f3OHDrEabBUtHi6Z6c9QtB-N8Uk24CycVuDHAvKj3y3aP0cTOAFCEKp5GcEk0WvROnAg3THcNa7RPa_RsRcS0zHPSrg?access_token=EwAQA61DBAAUmcDj0azQ5tf1lkBfAvHLBzXl5ugAASO9is%2bFpWEGaekY21WlRmZQwWQzzpePKaXhi3fTfFuy0EsAYHWBz9T3oSlUVT%2blD%2bMzTaQJiqyQ8DAWOw8KwmAwCXo0mIno865FhM4zU4r5elcIAmPR7tnWCazr4DxS0PBgwPJpUPEFos4LKzgWaLcasFAmLZUPaSqR2ZybgFBvEMEVLZ1RJV1f4YmpKbol7sj3oPl3q%2b3XPxpvoBLOZ9EZXG95BxUX7CGClzgNt/WFkG3Zty56mvxuJybkEFAB7AnlduUqQH2to7FwlXDqbpY%2bsvdOV0xQVSlfjY2Av9Ne48DJnSz%2bIIgNPJ6eQ%2bo3zFQd3mUWr5dhcT4P77jGXmwDZgAACPSmR70i1gwy4AFwcxa0tBjzC%2bdGEb5QDkG2nHZURIN8GI2UAl5ZBp94UV9/6ASwZSFXs8KE8qi%2bP262DmrmkBjwzgP0j8jDtG/zZVsRW/DJs4M1dwpykt7nT5nYTT1QIUS1jLrXhh9kYLG1LpgYdfmh2cW9CHWfFwuO4W03p3eA5XBkwR%2bJAtEOVw8xzc2Pk9b%2bziPjGxJxN5fwoC/PjjDrhZBPkG2OKs03wN/Br7vEQfbYn8czm28nj6nsi7yvqtTwtFe8eNhzKkcs2DVVB5oL3mX0HZXfZCEBfgMme8ZzQ/UCax9mcYUg8OabBAf/QiT%2bWlf9wwj9EZPaBQtumq6YjlG0ZBdqQ6eReOpAvub1Oqvnb0DYOX3W/Q7WCS8K5tJSiiWyw9wdS8I8SjeDvKQ9ia5mnQr0R5uuS50VcK6s%2bzbJV0c7l05cPcUivpu%2bTDQxhRk%2bY5I%2b19bRMyXW1QpMi%2bjE%2buJhvQJUJGGIbqTF3VaSLXv2L6Rq04033jCrEuWtDIGzUsALbDdKNADN79X3oeYnbVmqQ%2benRVwdaDZ29jzqGZCZYAbXmvMP93/MOM9o3x0ZgF7dXuibSxNEhG8xs44CuFs2FN5ofVePMkoKjngCj9mbrKbqtCqI/k5QLDTxOb2LXhVWmUAjAg%3d%3d\n",
            "Resolving public.dm.files.1drv.com (public.dm.files.1drv.com)... 13.107.42.12\n",
            "Connecting to public.dm.files.1drv.com (public.dm.files.1drv.com)|13.107.42.12|:443... connected.\n",
            "HTTP request sent, awaiting response... 200 OK\n",
            "Length: 5368709120 (5.0G) [application/x-rar-compressed]\n",
            "Saving to: ‘Manually_Annotated.part04.rar’\n",
            "\n",
            "Manually_Annotated. 100%[===================>]   5.00G  4.11MB/s    in 16m 59s \n",
            "\n",
            "2021-01-05 21:24:40 (5.02 MB/s) - ‘Manually_Annotated.part04.rar’ saved [5368709120/5368709120]\n",
            "\n"
          ],
          "name": "stdout"
        }
      ]
    },
    {
      "cell_type": "code",
      "metadata": {
        "colab": {
          "base_uri": "https://localhost:8080/"
        },
        "id": "u_o_AbDAWdl7",
        "outputId": "065620f2-c73e-41a1-85ec-8749bfef51ce"
      },
      "source": [
        "#part 5\n",
        "!wget --header=\"Host: public.dm.files.1drv.com\" --header=\"User-Agent: Mozilla/5.0 (Windows NT 10.0; Win64; x64) AppleWebKit/537.36 (KHTML, like Gecko) Chrome/87.0.4280.88 Safari/537.36\" --header=\"Accept: text/html,application/xhtml+xml,application/xml;q=0.9,image/avif,image/webp,image/apng,*/*;q=0.8,application/signed-exchange;v=b3;q=0.9\" --header=\"Accept-Language: pl-PL,pl;q=0.9,en-US;q=0.8,en;q=0.7\" --header=\"Referer: https://onedrive.live.com/\" --header=\"Cookie: ANON=; NAP=; WLSRDSecAuth=FAByARQL3KgEDBNbW84gMYrDN0fBab7xkQNmAAAEgAAACE/KD/Cc983jMAEliLYqIrmgc/fas8pz1XyVOSsiycy8QIuxikfg2V3p5KrFDstIg1XBJeK1H5mczjpya1XneEh5rZX4rE2/KgUMaMCG2JBJwsg0BUz9Ex1GzBf6JBg7F%2BWnSMakchmSdCiFC1u/4J9zrrNQCBJtCKKqF3khkuD7UiQo%2BLRapLI4oUbBZwMj7j9v3YDu3MsnUhIh2dE/praDmy2qzVscw5/U17F/uCAbRJdAetUvXd6jlZdmTRxY5t%2BcuD4Z0CjDLWdNH5VVSQzzNP81gTnl/zAORKVj686RVzwihiThhy2ZWeMlcf8O61MpygnReD48/8nFsjs%2BGSfoMYwfztRuXpqejzZqjxt29R8EBHJDCvk99vKp0%2B57D7LvRin/AZ8WjPImSSQFGS2mJKc0erH3ndT2FADQpc4CKBZvVeeI2WzdJftXGb8kGQ%3D%3D\" --header=\"Connection: keep-alive\" \"https://public.dm.files.1drv.com/y4mNcr-Ju6KfuUrcdU2yKHHMUyLePmLAHFZJ_36YKh8Qc_FWnDXBkM6AHJti5KkemFUkkwCvtj-Osk_iZdwhx3AzAwyYwc1Tis9u2a02VkOc6ihPLs9WjI4nGIYFpeRePNJkHfza5d1YJCERbcyL3vss3GqvA5MIOcezAi170YkzvqWfE6gsibtwlZnZG8eEUt1wTpiujN9wcrx6Zh2IAfZJNnSAb_MyCNv0E1xyoD3VDQ?access_token=EwAQA61DBAAUmcDj0azQ5tf1lkBfAvHLBzXl5ugAASO9is%2bFpWEGaekY21WlRmZQwWQzzpePKaXhi3fTfFuy0EsAYHWBz9T3oSlUVT%2blD%2bMzTaQJiqyQ8DAWOw8KwmAwCXo0mIno865FhM4zU4r5elcIAmPR7tnWCazr4DxS0PBgwPJpUPEFos4LKzgWaLcasFAmLZUPaSqR2ZybgFBvEMEVLZ1RJV1f4YmpKbol7sj3oPl3q%2b3XPxpvoBLOZ9EZXG95BxUX7CGClzgNt/WFkG3Zty56mvxuJybkEFAB7AnlduUqQH2to7FwlXDqbpY%2bsvdOV0xQVSlfjY2Av9Ne48DJnSz%2bIIgNPJ6eQ%2bo3zFQd3mUWr5dhcT4P77jGXmwDZgAACPSmR70i1gwy4AFwcxa0tBjzC%2bdGEb5QDkG2nHZURIN8GI2UAl5ZBp94UV9/6ASwZSFXs8KE8qi%2bP262DmrmkBjwzgP0j8jDtG/zZVsRW/DJs4M1dwpykt7nT5nYTT1QIUS1jLrXhh9kYLG1LpgYdfmh2cW9CHWfFwuO4W03p3eA5XBkwR%2bJAtEOVw8xzc2Pk9b%2bziPjGxJxN5fwoC/PjjDrhZBPkG2OKs03wN/Br7vEQfbYn8czm28nj6nsi7yvqtTwtFe8eNhzKkcs2DVVB5oL3mX0HZXfZCEBfgMme8ZzQ/UCax9mcYUg8OabBAf/QiT%2bWlf9wwj9EZPaBQtumq6YjlG0ZBdqQ6eReOpAvub1Oqvnb0DYOX3W/Q7WCS8K5tJSiiWyw9wdS8I8SjeDvKQ9ia5mnQr0R5uuS50VcK6s%2bzbJV0c7l05cPcUivpu%2bTDQxhRk%2bY5I%2b19bRMyXW1QpMi%2bjE%2buJhvQJUJGGIbqTF3VaSLXv2L6Rq04033jCrEuWtDIGzUsALbDdKNADN79X3oeYnbVmqQ%2benRVwdaDZ29jzqGZCZYAbXmvMP93/MOM9o3x0ZgF7dXuibSxNEhG8xs44CuFs2FN5ofVePMkoKjngCj9mbrKbqtCqI/k5QLDTxOb2LXhVWmUAjAg%3d%3d\" -c -O 'Manually_Annotated.part05.rar'"
      ],
      "execution_count": null,
      "outputs": [
        {
          "output_type": "stream",
          "text": [
            "--2021-01-05 21:24:40--  https://public.dm.files.1drv.com/y4mNcr-Ju6KfuUrcdU2yKHHMUyLePmLAHFZJ_36YKh8Qc_FWnDXBkM6AHJti5KkemFUkkwCvtj-Osk_iZdwhx3AzAwyYwc1Tis9u2a02VkOc6ihPLs9WjI4nGIYFpeRePNJkHfza5d1YJCERbcyL3vss3GqvA5MIOcezAi170YkzvqWfE6gsibtwlZnZG8eEUt1wTpiujN9wcrx6Zh2IAfZJNnSAb_MyCNv0E1xyoD3VDQ?access_token=EwAQA61DBAAUmcDj0azQ5tf1lkBfAvHLBzXl5ugAASO9is%2bFpWEGaekY21WlRmZQwWQzzpePKaXhi3fTfFuy0EsAYHWBz9T3oSlUVT%2blD%2bMzTaQJiqyQ8DAWOw8KwmAwCXo0mIno865FhM4zU4r5elcIAmPR7tnWCazr4DxS0PBgwPJpUPEFos4LKzgWaLcasFAmLZUPaSqR2ZybgFBvEMEVLZ1RJV1f4YmpKbol7sj3oPl3q%2b3XPxpvoBLOZ9EZXG95BxUX7CGClzgNt/WFkG3Zty56mvxuJybkEFAB7AnlduUqQH2to7FwlXDqbpY%2bsvdOV0xQVSlfjY2Av9Ne48DJnSz%2bIIgNPJ6eQ%2bo3zFQd3mUWr5dhcT4P77jGXmwDZgAACPSmR70i1gwy4AFwcxa0tBjzC%2bdGEb5QDkG2nHZURIN8GI2UAl5ZBp94UV9/6ASwZSFXs8KE8qi%2bP262DmrmkBjwzgP0j8jDtG/zZVsRW/DJs4M1dwpykt7nT5nYTT1QIUS1jLrXhh9kYLG1LpgYdfmh2cW9CHWfFwuO4W03p3eA5XBkwR%2bJAtEOVw8xzc2Pk9b%2bziPjGxJxN5fwoC/PjjDrhZBPkG2OKs03wN/Br7vEQfbYn8czm28nj6nsi7yvqtTwtFe8eNhzKkcs2DVVB5oL3mX0HZXfZCEBfgMme8ZzQ/UCax9mcYUg8OabBAf/QiT%2bWlf9wwj9EZPaBQtumq6YjlG0ZBdqQ6eReOpAvub1Oqvnb0DYOX3W/Q7WCS8K5tJSiiWyw9wdS8I8SjeDvKQ9ia5mnQr0R5uuS50VcK6s%2bzbJV0c7l05cPcUivpu%2bTDQxhRk%2bY5I%2b19bRMyXW1QpMi%2bjE%2buJhvQJUJGGIbqTF3VaSLXv2L6Rq04033jCrEuWtDIGzUsALbDdKNADN79X3oeYnbVmqQ%2benRVwdaDZ29jzqGZCZYAbXmvMP93/MOM9o3x0ZgF7dXuibSxNEhG8xs44CuFs2FN5ofVePMkoKjngCj9mbrKbqtCqI/k5QLDTxOb2LXhVWmUAjAg%3d%3d\n",
            "Resolving public.dm.files.1drv.com (public.dm.files.1drv.com)... 13.107.42.12\n",
            "Connecting to public.dm.files.1drv.com (public.dm.files.1drv.com)|13.107.42.12|:443... connected.\n",
            "HTTP request sent, awaiting response... 200 OK\n",
            "Length: 5368709120 (5.0G) [application/x-rar-compressed]\n",
            "Saving to: ‘Manually_Annotated.part05.rar’\n",
            "\n",
            "Manually_Annotated. 100%[===================>]   5.00G  34.4MB/s    in 2m 53s  \n",
            "\n",
            "2021-01-05 21:27:34 (29.5 MB/s) - ‘Manually_Annotated.part05.rar’ saved [5368709120/5368709120]\n",
            "\n"
          ],
          "name": "stdout"
        }
      ]
    },
    {
      "cell_type": "code",
      "metadata": {
        "colab": {
          "base_uri": "https://localhost:8080/"
        },
        "id": "mv8TxlR2Wjz0",
        "outputId": "7f038a21-a374-49ac-b971-3ac4b08e083c"
      },
      "source": [
        "#part 6\n",
        "!wget --header=\"Host: public.dm.files.1drv.com\" --header=\"User-Agent: Mozilla/5.0 (Windows NT 10.0; Win64; x64) AppleWebKit/537.36 (KHTML, like Gecko) Chrome/87.0.4280.88 Safari/537.36\" --header=\"Accept: text/html,application/xhtml+xml,application/xml;q=0.9,image/avif,image/webp,image/apng,*/*;q=0.8,application/signed-exchange;v=b3;q=0.9\" --header=\"Accept-Language: pl-PL,pl;q=0.9,en-US;q=0.8,en;q=0.7\" --header=\"Referer: https://onedrive.live.com/\" --header=\"Cookie: ANON=; NAP=; WLSRDSecAuth=FAByARQL3KgEDBNbW84gMYrDN0fBab7xkQNmAAAEgAAACE/KD/Cc983jMAEliLYqIrmgc/fas8pz1XyVOSsiycy8QIuxikfg2V3p5KrFDstIg1XBJeK1H5mczjpya1XneEh5rZX4rE2/KgUMaMCG2JBJwsg0BUz9Ex1GzBf6JBg7F%2BWnSMakchmSdCiFC1u/4J9zrrNQCBJtCKKqF3khkuD7UiQo%2BLRapLI4oUbBZwMj7j9v3YDu3MsnUhIh2dE/praDmy2qzVscw5/U17F/uCAbRJdAetUvXd6jlZdmTRxY5t%2BcuD4Z0CjDLWdNH5VVSQzzNP81gTnl/zAORKVj686RVzwihiThhy2ZWeMlcf8O61MpygnReD48/8nFsjs%2BGSfoMYwfztRuXpqejzZqjxt29R8EBHJDCvk99vKp0%2B57D7LvRin/AZ8WjPImSSQFGS2mJKc0erH3ndT2FADQpc4CKBZvVeeI2WzdJftXGb8kGQ%3D%3D\" --header=\"Connection: keep-alive\" \"https://public.dm.files.1drv.com/y4mPf9ACFaoFYG4blVCCpGLxnkESfcT8VKbd4dYAro-zxdDgFkmi6Su50pB98qr0sYTBktsnQWxSn30G3Q3aCawZvU0L2KTafdcgOrZ9dCNEqYE2MZFOg2S06gnb4XdzpVaC4KOVTZ60pJcPuENQs90Af0IfsZds7ePgbWfyJK78BppNTkajkjKYX6_Zjjhh0OpRpGB7K3uCG4wU3OEpRRM6h_flQpGtFtXD5XTkTlhMZo?access_token=EwAQA61DBAAUmcDj0azQ5tf1lkBfAvHLBzXl5ugAASO9is%2bFpWEGaekY21WlRmZQwWQzzpePKaXhi3fTfFuy0EsAYHWBz9T3oSlUVT%2blD%2bMzTaQJiqyQ8DAWOw8KwmAwCXo0mIno865FhM4zU4r5elcIAmPR7tnWCazr4DxS0PBgwPJpUPEFos4LKzgWaLcasFAmLZUPaSqR2ZybgFBvEMEVLZ1RJV1f4YmpKbol7sj3oPl3q%2b3XPxpvoBLOZ9EZXG95BxUX7CGClzgNt/WFkG3Zty56mvxuJybkEFAB7AnlduUqQH2to7FwlXDqbpY%2bsvdOV0xQVSlfjY2Av9Ne48DJnSz%2bIIgNPJ6eQ%2bo3zFQd3mUWr5dhcT4P77jGXmwDZgAACPSmR70i1gwy4AFwcxa0tBjzC%2bdGEb5QDkG2nHZURIN8GI2UAl5ZBp94UV9/6ASwZSFXs8KE8qi%2bP262DmrmkBjwzgP0j8jDtG/zZVsRW/DJs4M1dwpykt7nT5nYTT1QIUS1jLrXhh9kYLG1LpgYdfmh2cW9CHWfFwuO4W03p3eA5XBkwR%2bJAtEOVw8xzc2Pk9b%2bziPjGxJxN5fwoC/PjjDrhZBPkG2OKs03wN/Br7vEQfbYn8czm28nj6nsi7yvqtTwtFe8eNhzKkcs2DVVB5oL3mX0HZXfZCEBfgMme8ZzQ/UCax9mcYUg8OabBAf/QiT%2bWlf9wwj9EZPaBQtumq6YjlG0ZBdqQ6eReOpAvub1Oqvnb0DYOX3W/Q7WCS8K5tJSiiWyw9wdS8I8SjeDvKQ9ia5mnQr0R5uuS50VcK6s%2bzbJV0c7l05cPcUivpu%2bTDQxhRk%2bY5I%2b19bRMyXW1QpMi%2bjE%2buJhvQJUJGGIbqTF3VaSLXv2L6Rq04033jCrEuWtDIGzUsALbDdKNADN79X3oeYnbVmqQ%2benRVwdaDZ29jzqGZCZYAbXmvMP93/MOM9o3x0ZgF7dXuibSxNEhG8xs44CuFs2FN5ofVePMkoKjngCj9mbrKbqtCqI/k5QLDTxOb2LXhVWmUAjAg%3d%3d\" -c -O 'Manually_Annotated.part06.rar'"
      ],
      "execution_count": null,
      "outputs": [
        {
          "output_type": "stream",
          "text": [
            "--2021-01-05 21:27:34--  https://public.dm.files.1drv.com/y4mPf9ACFaoFYG4blVCCpGLxnkESfcT8VKbd4dYAro-zxdDgFkmi6Su50pB98qr0sYTBktsnQWxSn30G3Q3aCawZvU0L2KTafdcgOrZ9dCNEqYE2MZFOg2S06gnb4XdzpVaC4KOVTZ60pJcPuENQs90Af0IfsZds7ePgbWfyJK78BppNTkajkjKYX6_Zjjhh0OpRpGB7K3uCG4wU3OEpRRM6h_flQpGtFtXD5XTkTlhMZo?access_token=EwAQA61DBAAUmcDj0azQ5tf1lkBfAvHLBzXl5ugAASO9is%2bFpWEGaekY21WlRmZQwWQzzpePKaXhi3fTfFuy0EsAYHWBz9T3oSlUVT%2blD%2bMzTaQJiqyQ8DAWOw8KwmAwCXo0mIno865FhM4zU4r5elcIAmPR7tnWCazr4DxS0PBgwPJpUPEFos4LKzgWaLcasFAmLZUPaSqR2ZybgFBvEMEVLZ1RJV1f4YmpKbol7sj3oPl3q%2b3XPxpvoBLOZ9EZXG95BxUX7CGClzgNt/WFkG3Zty56mvxuJybkEFAB7AnlduUqQH2to7FwlXDqbpY%2bsvdOV0xQVSlfjY2Av9Ne48DJnSz%2bIIgNPJ6eQ%2bo3zFQd3mUWr5dhcT4P77jGXmwDZgAACPSmR70i1gwy4AFwcxa0tBjzC%2bdGEb5QDkG2nHZURIN8GI2UAl5ZBp94UV9/6ASwZSFXs8KE8qi%2bP262DmrmkBjwzgP0j8jDtG/zZVsRW/DJs4M1dwpykt7nT5nYTT1QIUS1jLrXhh9kYLG1LpgYdfmh2cW9CHWfFwuO4W03p3eA5XBkwR%2bJAtEOVw8xzc2Pk9b%2bziPjGxJxN5fwoC/PjjDrhZBPkG2OKs03wN/Br7vEQfbYn8czm28nj6nsi7yvqtTwtFe8eNhzKkcs2DVVB5oL3mX0HZXfZCEBfgMme8ZzQ/UCax9mcYUg8OabBAf/QiT%2bWlf9wwj9EZPaBQtumq6YjlG0ZBdqQ6eReOpAvub1Oqvnb0DYOX3W/Q7WCS8K5tJSiiWyw9wdS8I8SjeDvKQ9ia5mnQr0R5uuS50VcK6s%2bzbJV0c7l05cPcUivpu%2bTDQxhRk%2bY5I%2b19bRMyXW1QpMi%2bjE%2buJhvQJUJGGIbqTF3VaSLXv2L6Rq04033jCrEuWtDIGzUsALbDdKNADN79X3oeYnbVmqQ%2benRVwdaDZ29jzqGZCZYAbXmvMP93/MOM9o3x0ZgF7dXuibSxNEhG8xs44CuFs2FN5ofVePMkoKjngCj9mbrKbqtCqI/k5QLDTxOb2LXhVWmUAjAg%3d%3d\n",
            "Resolving public.dm.files.1drv.com (public.dm.files.1drv.com)... 13.107.42.12\n",
            "Connecting to public.dm.files.1drv.com (public.dm.files.1drv.com)|13.107.42.12|:443... connected.\n",
            "HTTP request sent, awaiting response... 200 OK\n",
            "Length: 5368709120 (5.0G) [application/x-rar-compressed]\n",
            "Saving to: ‘Manually_Annotated.part06.rar’\n",
            "\n",
            "Manually_Annotated.  36%[======>             ]   1.83G  --.-KB/s    in 2m 39s  \n",
            "\n",
            "2021-01-05 21:30:14 (11.8 MB/s) - Read error at byte 1962551524/5368709120 (Connection reset by peer). Retrying.\n",
            "\n",
            "--2021-01-05 21:30:15--  (try: 2)  https://public.dm.files.1drv.com/y4mPf9ACFaoFYG4blVCCpGLxnkESfcT8VKbd4dYAro-zxdDgFkmi6Su50pB98qr0sYTBktsnQWxSn30G3Q3aCawZvU0L2KTafdcgOrZ9dCNEqYE2MZFOg2S06gnb4XdzpVaC4KOVTZ60pJcPuENQs90Af0IfsZds7ePgbWfyJK78BppNTkajkjKYX6_Zjjhh0OpRpGB7K3uCG4wU3OEpRRM6h_flQpGtFtXD5XTkTlhMZo?access_token=EwAQA61DBAAUmcDj0azQ5tf1lkBfAvHLBzXl5ugAASO9is%2bFpWEGaekY21WlRmZQwWQzzpePKaXhi3fTfFuy0EsAYHWBz9T3oSlUVT%2blD%2bMzTaQJiqyQ8DAWOw8KwmAwCXo0mIno865FhM4zU4r5elcIAmPR7tnWCazr4DxS0PBgwPJpUPEFos4LKzgWaLcasFAmLZUPaSqR2ZybgFBvEMEVLZ1RJV1f4YmpKbol7sj3oPl3q%2b3XPxpvoBLOZ9EZXG95BxUX7CGClzgNt/WFkG3Zty56mvxuJybkEFAB7AnlduUqQH2to7FwlXDqbpY%2bsvdOV0xQVSlfjY2Av9Ne48DJnSz%2bIIgNPJ6eQ%2bo3zFQd3mUWr5dhcT4P77jGXmwDZgAACPSmR70i1gwy4AFwcxa0tBjzC%2bdGEb5QDkG2nHZURIN8GI2UAl5ZBp94UV9/6ASwZSFXs8KE8qi%2bP262DmrmkBjwzgP0j8jDtG/zZVsRW/DJs4M1dwpykt7nT5nYTT1QIUS1jLrXhh9kYLG1LpgYdfmh2cW9CHWfFwuO4W03p3eA5XBkwR%2bJAtEOVw8xzc2Pk9b%2bziPjGxJxN5fwoC/PjjDrhZBPkG2OKs03wN/Br7vEQfbYn8czm28nj6nsi7yvqtTwtFe8eNhzKkcs2DVVB5oL3mX0HZXfZCEBfgMme8ZzQ/UCax9mcYUg8OabBAf/QiT%2bWlf9wwj9EZPaBQtumq6YjlG0ZBdqQ6eReOpAvub1Oqvnb0DYOX3W/Q7WCS8K5tJSiiWyw9wdS8I8SjeDvKQ9ia5mnQr0R5uuS50VcK6s%2bzbJV0c7l05cPcUivpu%2bTDQxhRk%2bY5I%2b19bRMyXW1QpMi%2bjE%2buJhvQJUJGGIbqTF3VaSLXv2L6Rq04033jCrEuWtDIGzUsALbDdKNADN79X3oeYnbVmqQ%2benRVwdaDZ29jzqGZCZYAbXmvMP93/MOM9o3x0ZgF7dXuibSxNEhG8xs44CuFs2FN5ofVePMkoKjngCj9mbrKbqtCqI/k5QLDTxOb2LXhVWmUAjAg%3d%3d\n",
            "Connecting to public.dm.files.1drv.com (public.dm.files.1drv.com)|13.107.42.12|:443... connected.\n",
            "HTTP request sent, awaiting response... 206 Partial Content\n",
            "Length: 5368709120 (5.0G), 3406157596 (3.2G) remaining [application/x-rar-compressed]\n",
            "Saving to: ‘Manually_Annotated.part06.rar’\n",
            "\n",
            "Manually_Annotated. 100%[+++++++============>]   5.00G  27.3MB/s    in 2m 10s  \n",
            "\n",
            "2021-01-05 21:32:25 (25.1 MB/s) - ‘Manually_Annotated.part06.rar’ saved [5368709120/5368709120]\n",
            "\n"
          ],
          "name": "stdout"
        }
      ]
    },
    {
      "cell_type": "code",
      "metadata": {
        "colab": {
          "base_uri": "https://localhost:8080/"
        },
        "id": "-jj8_U9xWqHR",
        "outputId": "2a0da261-58ca-485a-9e0c-0c21a6e4463c"
      },
      "source": [
        "#part 7\n",
        "!wget --header=\"Host: public.dm.files.1drv.com\" --header=\"User-Agent: Mozilla/5.0 (Windows NT 10.0; Win64; x64) AppleWebKit/537.36 (KHTML, like Gecko) Chrome/87.0.4280.88 Safari/537.36\" --header=\"Accept: text/html,application/xhtml+xml,application/xml;q=0.9,image/avif,image/webp,image/apng,*/*;q=0.8,application/signed-exchange;v=b3;q=0.9\" --header=\"Accept-Language: pl-PL,pl;q=0.9,en-US;q=0.8,en;q=0.7\" --header=\"Referer: https://onedrive.live.com/\" --header=\"Cookie: ANON=; NAP=; WLSRDSecAuth=FAByARQL3KgEDBNbW84gMYrDN0fBab7xkQNmAAAEgAAACE/KD/Cc983jMAEliLYqIrmgc/fas8pz1XyVOSsiycy8QIuxikfg2V3p5KrFDstIg1XBJeK1H5mczjpya1XneEh5rZX4rE2/KgUMaMCG2JBJwsg0BUz9Ex1GzBf6JBg7F%2BWnSMakchmSdCiFC1u/4J9zrrNQCBJtCKKqF3khkuD7UiQo%2BLRapLI4oUbBZwMj7j9v3YDu3MsnUhIh2dE/praDmy2qzVscw5/U17F/uCAbRJdAetUvXd6jlZdmTRxY5t%2BcuD4Z0CjDLWdNH5VVSQzzNP81gTnl/zAORKVj686RVzwihiThhy2ZWeMlcf8O61MpygnReD48/8nFsjs%2BGSfoMYwfztRuXpqejzZqjxt29R8EBHJDCvk99vKp0%2B57D7LvRin/AZ8WjPImSSQFGS2mJKc0erH3ndT2FADQpc4CKBZvVeeI2WzdJftXGb8kGQ%3D%3D\" --header=\"Connection: keep-alive\" \"https://public.dm.files.1drv.com/y4mvNUdJ4OgexyIxuYiYgY82vvEMA_tkziKPosJ0Ksh6vB_bd5P-NqttF6YhdlcPeDkdkx7WPKMRDYfudAVmdZ3prz2yMt-EX7HaPdqs3-wc4ji3ACvhr8zNoxyYYh6TnP8Wo4OTsQWhcJfQqrof_ZorY7yELUrxn-NQhfLs9jRW85OaOSq0g_1odNUhNfOBGj7BrC3ULw3sDu3tk2zp7hQx7NhIVKvQ_XTBvMN7Ey0MoU?access_token=EwAQA61DBAAUmcDj0azQ5tf1lkBfAvHLBzXl5ugAASO9is%2bFpWEGaekY21WlRmZQwWQzzpePKaXhi3fTfFuy0EsAYHWBz9T3oSlUVT%2blD%2bMzTaQJiqyQ8DAWOw8KwmAwCXo0mIno865FhM4zU4r5elcIAmPR7tnWCazr4DxS0PBgwPJpUPEFos4LKzgWaLcasFAmLZUPaSqR2ZybgFBvEMEVLZ1RJV1f4YmpKbol7sj3oPl3q%2b3XPxpvoBLOZ9EZXG95BxUX7CGClzgNt/WFkG3Zty56mvxuJybkEFAB7AnlduUqQH2to7FwlXDqbpY%2bsvdOV0xQVSlfjY2Av9Ne48DJnSz%2bIIgNPJ6eQ%2bo3zFQd3mUWr5dhcT4P77jGXmwDZgAACPSmR70i1gwy4AFwcxa0tBjzC%2bdGEb5QDkG2nHZURIN8GI2UAl5ZBp94UV9/6ASwZSFXs8KE8qi%2bP262DmrmkBjwzgP0j8jDtG/zZVsRW/DJs4M1dwpykt7nT5nYTT1QIUS1jLrXhh9kYLG1LpgYdfmh2cW9CHWfFwuO4W03p3eA5XBkwR%2bJAtEOVw8xzc2Pk9b%2bziPjGxJxN5fwoC/PjjDrhZBPkG2OKs03wN/Br7vEQfbYn8czm28nj6nsi7yvqtTwtFe8eNhzKkcs2DVVB5oL3mX0HZXfZCEBfgMme8ZzQ/UCax9mcYUg8OabBAf/QiT%2bWlf9wwj9EZPaBQtumq6YjlG0ZBdqQ6eReOpAvub1Oqvnb0DYOX3W/Q7WCS8K5tJSiiWyw9wdS8I8SjeDvKQ9ia5mnQr0R5uuS50VcK6s%2bzbJV0c7l05cPcUivpu%2bTDQxhRk%2bY5I%2b19bRMyXW1QpMi%2bjE%2buJhvQJUJGGIbqTF3VaSLXv2L6Rq04033jCrEuWtDIGzUsALbDdKNADN79X3oeYnbVmqQ%2benRVwdaDZ29jzqGZCZYAbXmvMP93/MOM9o3x0ZgF7dXuibSxNEhG8xs44CuFs2FN5ofVePMkoKjngCj9mbrKbqtCqI/k5QLDTxOb2LXhVWmUAjAg%3d%3d\" -c -O 'Manually_Annotated.part07.rar'"
      ],
      "execution_count": null,
      "outputs": [
        {
          "output_type": "stream",
          "text": [
            "--2021-01-05 21:32:25--  https://public.dm.files.1drv.com/y4mvNUdJ4OgexyIxuYiYgY82vvEMA_tkziKPosJ0Ksh6vB_bd5P-NqttF6YhdlcPeDkdkx7WPKMRDYfudAVmdZ3prz2yMt-EX7HaPdqs3-wc4ji3ACvhr8zNoxyYYh6TnP8Wo4OTsQWhcJfQqrof_ZorY7yELUrxn-NQhfLs9jRW85OaOSq0g_1odNUhNfOBGj7BrC3ULw3sDu3tk2zp7hQx7NhIVKvQ_XTBvMN7Ey0MoU?access_token=EwAQA61DBAAUmcDj0azQ5tf1lkBfAvHLBzXl5ugAASO9is%2bFpWEGaekY21WlRmZQwWQzzpePKaXhi3fTfFuy0EsAYHWBz9T3oSlUVT%2blD%2bMzTaQJiqyQ8DAWOw8KwmAwCXo0mIno865FhM4zU4r5elcIAmPR7tnWCazr4DxS0PBgwPJpUPEFos4LKzgWaLcasFAmLZUPaSqR2ZybgFBvEMEVLZ1RJV1f4YmpKbol7sj3oPl3q%2b3XPxpvoBLOZ9EZXG95BxUX7CGClzgNt/WFkG3Zty56mvxuJybkEFAB7AnlduUqQH2to7FwlXDqbpY%2bsvdOV0xQVSlfjY2Av9Ne48DJnSz%2bIIgNPJ6eQ%2bo3zFQd3mUWr5dhcT4P77jGXmwDZgAACPSmR70i1gwy4AFwcxa0tBjzC%2bdGEb5QDkG2nHZURIN8GI2UAl5ZBp94UV9/6ASwZSFXs8KE8qi%2bP262DmrmkBjwzgP0j8jDtG/zZVsRW/DJs4M1dwpykt7nT5nYTT1QIUS1jLrXhh9kYLG1LpgYdfmh2cW9CHWfFwuO4W03p3eA5XBkwR%2bJAtEOVw8xzc2Pk9b%2bziPjGxJxN5fwoC/PjjDrhZBPkG2OKs03wN/Br7vEQfbYn8czm28nj6nsi7yvqtTwtFe8eNhzKkcs2DVVB5oL3mX0HZXfZCEBfgMme8ZzQ/UCax9mcYUg8OabBAf/QiT%2bWlf9wwj9EZPaBQtumq6YjlG0ZBdqQ6eReOpAvub1Oqvnb0DYOX3W/Q7WCS8K5tJSiiWyw9wdS8I8SjeDvKQ9ia5mnQr0R5uuS50VcK6s%2bzbJV0c7l05cPcUivpu%2bTDQxhRk%2bY5I%2b19bRMyXW1QpMi%2bjE%2buJhvQJUJGGIbqTF3VaSLXv2L6Rq04033jCrEuWtDIGzUsALbDdKNADN79X3oeYnbVmqQ%2benRVwdaDZ29jzqGZCZYAbXmvMP93/MOM9o3x0ZgF7dXuibSxNEhG8xs44CuFs2FN5ofVePMkoKjngCj9mbrKbqtCqI/k5QLDTxOb2LXhVWmUAjAg%3d%3d\n",
            "Resolving public.dm.files.1drv.com (public.dm.files.1drv.com)... 13.107.43.12\n",
            "Connecting to public.dm.files.1drv.com (public.dm.files.1drv.com)|13.107.43.12|:443... connected.\n",
            "HTTP request sent, awaiting response... 200 OK\n",
            "Length: 5368709120 (5.0G) [application/x-rar-compressed]\n",
            "Saving to: ‘Manually_Annotated.part07.rar’\n",
            "\n",
            "Manually_Annotated. 100%[===================>]   5.00G  34.8MB/s    in 2m 36s  \n",
            "\n",
            "2021-01-05 21:35:03 (32.7 MB/s) - ‘Manually_Annotated.part07.rar’ saved [5368709120/5368709120]\n",
            "\n"
          ],
          "name": "stdout"
        }
      ]
    },
    {
      "cell_type": "code",
      "metadata": {
        "colab": {
          "base_uri": "https://localhost:8080/"
        },
        "id": "XUVP3XZ0WwLA",
        "outputId": "ce08f0cc-b1fc-4e88-b575-2ee48b0ae735"
      },
      "source": [
        "#part 8 \n",
        "!wget --header=\"Host: public.dm.files.1drv.com\" --header=\"User-Agent: Mozilla/5.0 (Windows NT 10.0; Win64; x64) AppleWebKit/537.36 (KHTML, like Gecko) Chrome/87.0.4280.88 Safari/537.36\" --header=\"Accept: text/html,application/xhtml+xml,application/xml;q=0.9,image/avif,image/webp,image/apng,*/*;q=0.8,application/signed-exchange;v=b3;q=0.9\" --header=\"Accept-Language: pl-PL,pl;q=0.9,en-US;q=0.8,en;q=0.7\" --header=\"Referer: https://onedrive.live.com/\" --header=\"Cookie: ANON=; NAP=; WLSRDSecAuth=FAByARQL3KgEDBNbW84gMYrDN0fBab7xkQNmAAAEgAAACE/KD/Cc983jMAEliLYqIrmgc/fas8pz1XyVOSsiycy8QIuxikfg2V3p5KrFDstIg1XBJeK1H5mczjpya1XneEh5rZX4rE2/KgUMaMCG2JBJwsg0BUz9Ex1GzBf6JBg7F%2BWnSMakchmSdCiFC1u/4J9zrrNQCBJtCKKqF3khkuD7UiQo%2BLRapLI4oUbBZwMj7j9v3YDu3MsnUhIh2dE/praDmy2qzVscw5/U17F/uCAbRJdAetUvXd6jlZdmTRxY5t%2BcuD4Z0CjDLWdNH5VVSQzzNP81gTnl/zAORKVj686RVzwihiThhy2ZWeMlcf8O61MpygnReD48/8nFsjs%2BGSfoMYwfztRuXpqejzZqjxt29R8EBHJDCvk99vKp0%2B57D7LvRin/AZ8WjPImSSQFGS2mJKc0erH3ndT2FADQpc4CKBZvVeeI2WzdJftXGb8kGQ%3D%3D\" --header=\"Connection: keep-alive\" \"https://public.dm.files.1drv.com/y4mFMcZPt1aFv9lh0YSZsKVx8y6OU2u4YQf5d7M2h021eyHFzHPdQEOvUR5d4H_gj04RW3JhU1akURnecglyGvmBHamWIHmJPtvzl2MQZzi-g66bRylueYEp8FCmzfDpzYmpq34DWY6QoDW8VVB8SMhph_TlXEE0-a1FfLjqFsTn0BVx7ea1HWjyiVtM2VwYaQDV5QBtK5SaUg52HZkTi1x3ZuZzIHxRx30UwTfsdO_94s?access_token=EwAQA61DBAAUmcDj0azQ5tf1lkBfAvHLBzXl5ugAASO9is%2bFpWEGaekY21WlRmZQwWQzzpePKaXhi3fTfFuy0EsAYHWBz9T3oSlUVT%2blD%2bMzTaQJiqyQ8DAWOw8KwmAwCXo0mIno865FhM4zU4r5elcIAmPR7tnWCazr4DxS0PBgwPJpUPEFos4LKzgWaLcasFAmLZUPaSqR2ZybgFBvEMEVLZ1RJV1f4YmpKbol7sj3oPl3q%2b3XPxpvoBLOZ9EZXG95BxUX7CGClzgNt/WFkG3Zty56mvxuJybkEFAB7AnlduUqQH2to7FwlXDqbpY%2bsvdOV0xQVSlfjY2Av9Ne48DJnSz%2bIIgNPJ6eQ%2bo3zFQd3mUWr5dhcT4P77jGXmwDZgAACPSmR70i1gwy4AFwcxa0tBjzC%2bdGEb5QDkG2nHZURIN8GI2UAl5ZBp94UV9/6ASwZSFXs8KE8qi%2bP262DmrmkBjwzgP0j8jDtG/zZVsRW/DJs4M1dwpykt7nT5nYTT1QIUS1jLrXhh9kYLG1LpgYdfmh2cW9CHWfFwuO4W03p3eA5XBkwR%2bJAtEOVw8xzc2Pk9b%2bziPjGxJxN5fwoC/PjjDrhZBPkG2OKs03wN/Br7vEQfbYn8czm28nj6nsi7yvqtTwtFe8eNhzKkcs2DVVB5oL3mX0HZXfZCEBfgMme8ZzQ/UCax9mcYUg8OabBAf/QiT%2bWlf9wwj9EZPaBQtumq6YjlG0ZBdqQ6eReOpAvub1Oqvnb0DYOX3W/Q7WCS8K5tJSiiWyw9wdS8I8SjeDvKQ9ia5mnQr0R5uuS50VcK6s%2bzbJV0c7l05cPcUivpu%2bTDQxhRk%2bY5I%2b19bRMyXW1QpMi%2bjE%2buJhvQJUJGGIbqTF3VaSLXv2L6Rq04033jCrEuWtDIGzUsALbDdKNADN79X3oeYnbVmqQ%2benRVwdaDZ29jzqGZCZYAbXmvMP93/MOM9o3x0ZgF7dXuibSxNEhG8xs44CuFs2FN5ofVePMkoKjngCj9mbrKbqtCqI/k5QLDTxOb2LXhVWmUAjAg%3d%3d\" -c -O 'Manually_Annotated.part08.rar'"
      ],
      "execution_count": null,
      "outputs": [
        {
          "output_type": "stream",
          "text": [
            "--2021-01-05 21:35:03--  https://public.dm.files.1drv.com/y4mFMcZPt1aFv9lh0YSZsKVx8y6OU2u4YQf5d7M2h021eyHFzHPdQEOvUR5d4H_gj04RW3JhU1akURnecglyGvmBHamWIHmJPtvzl2MQZzi-g66bRylueYEp8FCmzfDpzYmpq34DWY6QoDW8VVB8SMhph_TlXEE0-a1FfLjqFsTn0BVx7ea1HWjyiVtM2VwYaQDV5QBtK5SaUg52HZkTi1x3ZuZzIHxRx30UwTfsdO_94s?access_token=EwAQA61DBAAUmcDj0azQ5tf1lkBfAvHLBzXl5ugAASO9is%2bFpWEGaekY21WlRmZQwWQzzpePKaXhi3fTfFuy0EsAYHWBz9T3oSlUVT%2blD%2bMzTaQJiqyQ8DAWOw8KwmAwCXo0mIno865FhM4zU4r5elcIAmPR7tnWCazr4DxS0PBgwPJpUPEFos4LKzgWaLcasFAmLZUPaSqR2ZybgFBvEMEVLZ1RJV1f4YmpKbol7sj3oPl3q%2b3XPxpvoBLOZ9EZXG95BxUX7CGClzgNt/WFkG3Zty56mvxuJybkEFAB7AnlduUqQH2to7FwlXDqbpY%2bsvdOV0xQVSlfjY2Av9Ne48DJnSz%2bIIgNPJ6eQ%2bo3zFQd3mUWr5dhcT4P77jGXmwDZgAACPSmR70i1gwy4AFwcxa0tBjzC%2bdGEb5QDkG2nHZURIN8GI2UAl5ZBp94UV9/6ASwZSFXs8KE8qi%2bP262DmrmkBjwzgP0j8jDtG/zZVsRW/DJs4M1dwpykt7nT5nYTT1QIUS1jLrXhh9kYLG1LpgYdfmh2cW9CHWfFwuO4W03p3eA5XBkwR%2bJAtEOVw8xzc2Pk9b%2bziPjGxJxN5fwoC/PjjDrhZBPkG2OKs03wN/Br7vEQfbYn8czm28nj6nsi7yvqtTwtFe8eNhzKkcs2DVVB5oL3mX0HZXfZCEBfgMme8ZzQ/UCax9mcYUg8OabBAf/QiT%2bWlf9wwj9EZPaBQtumq6YjlG0ZBdqQ6eReOpAvub1Oqvnb0DYOX3W/Q7WCS8K5tJSiiWyw9wdS8I8SjeDvKQ9ia5mnQr0R5uuS50VcK6s%2bzbJV0c7l05cPcUivpu%2bTDQxhRk%2bY5I%2b19bRMyXW1QpMi%2bjE%2buJhvQJUJGGIbqTF3VaSLXv2L6Rq04033jCrEuWtDIGzUsALbDdKNADN79X3oeYnbVmqQ%2benRVwdaDZ29jzqGZCZYAbXmvMP93/MOM9o3x0ZgF7dXuibSxNEhG8xs44CuFs2FN5ofVePMkoKjngCj9mbrKbqtCqI/k5QLDTxOb2LXhVWmUAjAg%3d%3d\n",
            "Resolving public.dm.files.1drv.com (public.dm.files.1drv.com)... 13.107.42.12\n",
            "Connecting to public.dm.files.1drv.com (public.dm.files.1drv.com)|13.107.42.12|:443... connected.\n",
            "HTTP request sent, awaiting response... 200 OK\n",
            "Length: 5368709120 (5.0G) [application/x-rar-compressed]\n",
            "Saving to: ‘Manually_Annotated.part08.rar’\n",
            "\n",
            "Manually_Annotated. 100%[===================>]   5.00G  16.1MB/s    in 4m 12s  \n",
            "\n",
            "2021-01-05 21:39:17 (20.3 MB/s) - ‘Manually_Annotated.part08.rar’ saved [5368709120/5368709120]\n",
            "\n"
          ],
          "name": "stdout"
        }
      ]
    },
    {
      "cell_type": "code",
      "metadata": {
        "colab": {
          "base_uri": "https://localhost:8080/"
        },
        "id": "7DAy66qNW09n",
        "outputId": "1f0f0d88-c664-4108-88b9-8dba5bfd5f69"
      },
      "source": [
        "#part 9\n",
        "!wget --header=\"Host: public.dm.files.1drv.com\" --header=\"User-Agent: Mozilla/5.0 (Windows NT 10.0; Win64; x64) AppleWebKit/537.36 (KHTML, like Gecko) Chrome/87.0.4280.88 Safari/537.36\" --header=\"Accept: text/html,application/xhtml+xml,application/xml;q=0.9,image/avif,image/webp,image/apng,*/*;q=0.8,application/signed-exchange;v=b3;q=0.9\" --header=\"Accept-Language: pl-PL,pl;q=0.9,en-US;q=0.8,en;q=0.7\" --header=\"Referer: https://onedrive.live.com/\" --header=\"Cookie: ANON=; NAP=; WLSRDSecAuth=FAByARQL3KgEDBNbW84gMYrDN0fBab7xkQNmAAAEgAAACE/KD/Cc983jMAEliLYqIrmgc/fas8pz1XyVOSsiycy8QIuxikfg2V3p5KrFDstIg1XBJeK1H5mczjpya1XneEh5rZX4rE2/KgUMaMCG2JBJwsg0BUz9Ex1GzBf6JBg7F%2BWnSMakchmSdCiFC1u/4J9zrrNQCBJtCKKqF3khkuD7UiQo%2BLRapLI4oUbBZwMj7j9v3YDu3MsnUhIh2dE/praDmy2qzVscw5/U17F/uCAbRJdAetUvXd6jlZdmTRxY5t%2BcuD4Z0CjDLWdNH5VVSQzzNP81gTnl/zAORKVj686RVzwihiThhy2ZWeMlcf8O61MpygnReD48/8nFsjs%2BGSfoMYwfztRuXpqejzZqjxt29R8EBHJDCvk99vKp0%2B57D7LvRin/AZ8WjPImSSQFGS2mJKc0erH3ndT2FADQpc4CKBZvVeeI2WzdJftXGb8kGQ%3D%3D\" --header=\"Connection: keep-alive\" \"https://public.dm.files.1drv.com/y4m9xhSzlicpPIqSzySev210zzsAX5fKzsQOStwqC8gGuuKxSpdgNWZUBG0UOgoTl6Lmb5RbsyuIXxh5HTwkQasAE6N1GwzzBrtVYOjjM95I8Qx7J1eWKybzu2EE2LUNvkM-yub8jw-ga7nZGc4n_NFGcm5nQxMWa03xrquYYtP69LJ-tNujMa5oUT_wixveecLsh8Ae_Vmc7TIo2ypEWUhkJ0agdDwalJYthfxJANjTGw?access_token=EwAQA61DBAAUmcDj0azQ5tf1lkBfAvHLBzXl5ugAASO9is%2bFpWEGaekY21WlRmZQwWQzzpePKaXhi3fTfFuy0EsAYHWBz9T3oSlUVT%2blD%2bMzTaQJiqyQ8DAWOw8KwmAwCXo0mIno865FhM4zU4r5elcIAmPR7tnWCazr4DxS0PBgwPJpUPEFos4LKzgWaLcasFAmLZUPaSqR2ZybgFBvEMEVLZ1RJV1f4YmpKbol7sj3oPl3q%2b3XPxpvoBLOZ9EZXG95BxUX7CGClzgNt/WFkG3Zty56mvxuJybkEFAB7AnlduUqQH2to7FwlXDqbpY%2bsvdOV0xQVSlfjY2Av9Ne48DJnSz%2bIIgNPJ6eQ%2bo3zFQd3mUWr5dhcT4P77jGXmwDZgAACPSmR70i1gwy4AFwcxa0tBjzC%2bdGEb5QDkG2nHZURIN8GI2UAl5ZBp94UV9/6ASwZSFXs8KE8qi%2bP262DmrmkBjwzgP0j8jDtG/zZVsRW/DJs4M1dwpykt7nT5nYTT1QIUS1jLrXhh9kYLG1LpgYdfmh2cW9CHWfFwuO4W03p3eA5XBkwR%2bJAtEOVw8xzc2Pk9b%2bziPjGxJxN5fwoC/PjjDrhZBPkG2OKs03wN/Br7vEQfbYn8czm28nj6nsi7yvqtTwtFe8eNhzKkcs2DVVB5oL3mX0HZXfZCEBfgMme8ZzQ/UCax9mcYUg8OabBAf/QiT%2bWlf9wwj9EZPaBQtumq6YjlG0ZBdqQ6eReOpAvub1Oqvnb0DYOX3W/Q7WCS8K5tJSiiWyw9wdS8I8SjeDvKQ9ia5mnQr0R5uuS50VcK6s%2bzbJV0c7l05cPcUivpu%2bTDQxhRk%2bY5I%2b19bRMyXW1QpMi%2bjE%2buJhvQJUJGGIbqTF3VaSLXv2L6Rq04033jCrEuWtDIGzUsALbDdKNADN79X3oeYnbVmqQ%2benRVwdaDZ29jzqGZCZYAbXmvMP93/MOM9o3x0ZgF7dXuibSxNEhG8xs44CuFs2FN5ofVePMkoKjngCj9mbrKbqtCqI/k5QLDTxOb2LXhVWmUAjAg%3d%3d\" -c -O 'Manually_Annotated.part09.rar'"
      ],
      "execution_count": null,
      "outputs": [
        {
          "output_type": "stream",
          "text": [
            "--2021-01-05 21:39:29--  https://public.dm.files.1drv.com/y4m9xhSzlicpPIqSzySev210zzsAX5fKzsQOStwqC8gGuuKxSpdgNWZUBG0UOgoTl6Lmb5RbsyuIXxh5HTwkQasAE6N1GwzzBrtVYOjjM95I8Qx7J1eWKybzu2EE2LUNvkM-yub8jw-ga7nZGc4n_NFGcm5nQxMWa03xrquYYtP69LJ-tNujMa5oUT_wixveecLsh8Ae_Vmc7TIo2ypEWUhkJ0agdDwalJYthfxJANjTGw?access_token=EwAQA61DBAAUmcDj0azQ5tf1lkBfAvHLBzXl5ugAASO9is%2bFpWEGaekY21WlRmZQwWQzzpePKaXhi3fTfFuy0EsAYHWBz9T3oSlUVT%2blD%2bMzTaQJiqyQ8DAWOw8KwmAwCXo0mIno865FhM4zU4r5elcIAmPR7tnWCazr4DxS0PBgwPJpUPEFos4LKzgWaLcasFAmLZUPaSqR2ZybgFBvEMEVLZ1RJV1f4YmpKbol7sj3oPl3q%2b3XPxpvoBLOZ9EZXG95BxUX7CGClzgNt/WFkG3Zty56mvxuJybkEFAB7AnlduUqQH2to7FwlXDqbpY%2bsvdOV0xQVSlfjY2Av9Ne48DJnSz%2bIIgNPJ6eQ%2bo3zFQd3mUWr5dhcT4P77jGXmwDZgAACPSmR70i1gwy4AFwcxa0tBjzC%2bdGEb5QDkG2nHZURIN8GI2UAl5ZBp94UV9/6ASwZSFXs8KE8qi%2bP262DmrmkBjwzgP0j8jDtG/zZVsRW/DJs4M1dwpykt7nT5nYTT1QIUS1jLrXhh9kYLG1LpgYdfmh2cW9CHWfFwuO4W03p3eA5XBkwR%2bJAtEOVw8xzc2Pk9b%2bziPjGxJxN5fwoC/PjjDrhZBPkG2OKs03wN/Br7vEQfbYn8czm28nj6nsi7yvqtTwtFe8eNhzKkcs2DVVB5oL3mX0HZXfZCEBfgMme8ZzQ/UCax9mcYUg8OabBAf/QiT%2bWlf9wwj9EZPaBQtumq6YjlG0ZBdqQ6eReOpAvub1Oqvnb0DYOX3W/Q7WCS8K5tJSiiWyw9wdS8I8SjeDvKQ9ia5mnQr0R5uuS50VcK6s%2bzbJV0c7l05cPcUivpu%2bTDQxhRk%2bY5I%2b19bRMyXW1QpMi%2bjE%2buJhvQJUJGGIbqTF3VaSLXv2L6Rq04033jCrEuWtDIGzUsALbDdKNADN79X3oeYnbVmqQ%2benRVwdaDZ29jzqGZCZYAbXmvMP93/MOM9o3x0ZgF7dXuibSxNEhG8xs44CuFs2FN5ofVePMkoKjngCj9mbrKbqtCqI/k5QLDTxOb2LXhVWmUAjAg%3d%3d\n",
            "Resolving public.dm.files.1drv.com (public.dm.files.1drv.com)... 13.107.42.12\n",
            "Connecting to public.dm.files.1drv.com (public.dm.files.1drv.com)|13.107.42.12|:443... connected.\n",
            "HTTP request sent, awaiting response... 200 OK\n",
            "Length: 5368709120 (5.0G) [application/x-rar-compressed]\n",
            "Saving to: ‘Manually_Annotated.part09.rar’\n",
            "\n",
            "Manually_Annotated. 100%[===================>]   5.00G  25.7MB/s    in 2m 33s  \n",
            "\n",
            "2021-01-05 21:42:02 (33.6 MB/s) - ‘Manually_Annotated.part09.rar’ saved [5368709120/5368709120]\n",
            "\n"
          ],
          "name": "stdout"
        }
      ]
    },
    {
      "cell_type": "code",
      "metadata": {
        "colab": {
          "base_uri": "https://localhost:8080/"
        },
        "id": "F2SlLMHU1hGq",
        "outputId": "78e76892-32a3-4182-bd91-d4a772250fbb"
      },
      "source": [
        "#part 10\n",
        "!wget --header=\"Host: public.dm.files.1drv.com\" --header=\"User-Agent: Mozilla/5.0 (Windows NT 10.0; Win64; x64) AppleWebKit/537.36 (KHTML, like Gecko) Chrome/87.0.4280.88 Safari/537.36\" --header=\"Accept: text/html,application/xhtml+xml,application/xml;q=0.9,image/avif,image/webp,image/apng,*/*;q=0.8,application/signed-exchange;v=b3;q=0.9\" --header=\"Accept-Language: pl-PL,pl;q=0.9,en-US;q=0.8,en;q=0.7\" --header=\"Referer: https://onedrive.live.com/\" --header=\"Cookie: ANON=; NAP=; WLSRDSecAuth=FAByARQL3KgEDBNbW84gMYrDN0fBab7xkQNmAAAEgAAACNWsGToVJnQOMAEHP5M4BlRid9Y9FSrbvbzo%2ByPsZ4gVIdLc/kFlU4l/xNf7RqNvuNixd7KRYqLL0xEFqq0M5QSEkYDtxcA5uXKoE6PQV9pUG0CTieK%2Br9SsSDnOM58n7mFb/fCQdQQYORdZKNZhgBz1z7%2BJe%2BLbn2L72zOkJvPAuoITNn2GlGspV%2BZ8soMqqkPJYN9Obz7WdliV0a71iTrmALk/Ws7xGLjBTOfFHqeFKm%2Btu4DLjCirkad4mZYmE9NmWkdz43LMgwKTt3Pj9XgXZyCEZ1lWHwAYQLCaItCUkFO6Ic8HoEhrFnVtl54zzfKA%2BPZXc8XKM0%2BSSSx1kxJhnvs/EOGxGyM0jFT4HD/7U5wWjOS%2BN5uKmzMGLLw1QXrz%2BlQZ2GK%2Be/LGfmZsxgTmrpKwALZ%2B4grGFADrx68xhNUmhLFrGhWYEl22yBpICA%3D%3D\" --header=\"Connection: keep-alive\" \"https://public.dm.files.1drv.com/y4m9u1wvBajVsNYw--aEwrM2m8o-h7mHNCus1zvlveAx5fGsNQFr-phs16S3pTUCzMZ8vJTyvnEgt3KKUHIPPVgysPUIcwaQf7XeTk1XJML40QRmxNf0B0q_yDFAKgqIXMpdhazUo-5ksP5HaEbW4m7ToK9ocmpCKuXPO4NzUlAOTFiZ55WiaiW82IjinaZE0F9T6H9oa7dinJbANffwmadBWI-y4afoRpTT6sigkiOqq0?access_token=EwAQA61DBAAUmcDj0azQ5tf1lkBfAvHLBzXl5ugAAVSzt0ZJ8ILh8%2bTydZuUx19PdhVcnCe0tVV4wGvL7jEJ7xmbpGaffxUCp4gmFx1QzctcSqady%2b3RGRM68YNo6vqGjVPE/IXwoSUnqRZ77eOBIqtPSurWRXSd8pLrlFK%2bIHYuiZ%2bfUL79mx6q62FPlR32qKKARgf2lkAmgu1pj3qya5tOs4Lp6rs0epKlc/%2bliuVUHWqhhmvsqttcnc4ocbV7W9UUZIq99IbySZHs5/ARW/Z3uFEMv%2bTmdBNmHpOVMQA/nOXYpIJdZcgl2GM7DoMvLCh2wObc2HOy/8bTtVGWpd7Pcqdj8XCzN6TTaAnogwrgrSSEklJNkHLXbfA//dgDZgAACFBe9qa43eZu4AHEL3IMvATAE1DbALXTzivMnT72uhUWUrKgVwRJdC%2biP0FX1K3ZOZEcnnyM6amjMWRNmj9ei0%2bFi9iECLXEb6EoP8/8Z17%2buQH/9QraNl83LhrIC6wB7neCM2KNPPzvWGfQZJWDB9YHttzn1JnD8mXQQVCfjZ/LTY6/YFGtbaIZV205ypn%2b8a8u5uUrjqNQGNoTYUb7614kPoAU93Hgs4pTZzXuRaueWpoPHIvtCiVWILUmSyirdSFw6M0Gqp7XPyCZhIefGdq11J1DrMDFQNw0%2bfKEKnpYfQpSzH1tw0cayHUjcVMIZstgmn0vpAnh/ORrqM/zbuCJ74LC3EDhYGfJMg9KQJFpFWkNs8lU54HAtKjzW2LMuWn/H1PYZJX68TMOGRlSZoYTiZ1lWedcPnwf5Goz8Nh6lgf6j6LeN98DZgD6ureau6aP7qByEgNFxQnNFJiDnjOcWr26vtp3Mw2XzVIbtsRzoLHG96JdOs4ud91M1b9q9%2b/VryjKqdROeHjR3ebhi6tQF7cegXJKBVZKqLdbko/sfJ3FJdPR3%2b/OU/6PTP/02vP3OmNbSRy1za37m/aZQAcx7djfYa/y3yWkiqzuIpwwVJ8Z9Ev%2bgxBj0QW7puMwz0dqeOS4bidW/yEjAg%3d%3d\" -c -O 'Manually_Annotated.part10.rar'"
      ],
      "execution_count": null,
      "outputs": [
        {
          "output_type": "stream",
          "text": [
            "--2021-01-05 22:34:03--  https://public.dm.files.1drv.com/y4m9u1wvBajVsNYw--aEwrM2m8o-h7mHNCus1zvlveAx5fGsNQFr-phs16S3pTUCzMZ8vJTyvnEgt3KKUHIPPVgysPUIcwaQf7XeTk1XJML40QRmxNf0B0q_yDFAKgqIXMpdhazUo-5ksP5HaEbW4m7ToK9ocmpCKuXPO4NzUlAOTFiZ55WiaiW82IjinaZE0F9T6H9oa7dinJbANffwmadBWI-y4afoRpTT6sigkiOqq0?access_token=EwAQA61DBAAUmcDj0azQ5tf1lkBfAvHLBzXl5ugAAVSzt0ZJ8ILh8%2bTydZuUx19PdhVcnCe0tVV4wGvL7jEJ7xmbpGaffxUCp4gmFx1QzctcSqady%2b3RGRM68YNo6vqGjVPE/IXwoSUnqRZ77eOBIqtPSurWRXSd8pLrlFK%2bIHYuiZ%2bfUL79mx6q62FPlR32qKKARgf2lkAmgu1pj3qya5tOs4Lp6rs0epKlc/%2bliuVUHWqhhmvsqttcnc4ocbV7W9UUZIq99IbySZHs5/ARW/Z3uFEMv%2bTmdBNmHpOVMQA/nOXYpIJdZcgl2GM7DoMvLCh2wObc2HOy/8bTtVGWpd7Pcqdj8XCzN6TTaAnogwrgrSSEklJNkHLXbfA//dgDZgAACFBe9qa43eZu4AHEL3IMvATAE1DbALXTzivMnT72uhUWUrKgVwRJdC%2biP0FX1K3ZOZEcnnyM6amjMWRNmj9ei0%2bFi9iECLXEb6EoP8/8Z17%2buQH/9QraNl83LhrIC6wB7neCM2KNPPzvWGfQZJWDB9YHttzn1JnD8mXQQVCfjZ/LTY6/YFGtbaIZV205ypn%2b8a8u5uUrjqNQGNoTYUb7614kPoAU93Hgs4pTZzXuRaueWpoPHIvtCiVWILUmSyirdSFw6M0Gqp7XPyCZhIefGdq11J1DrMDFQNw0%2bfKEKnpYfQpSzH1tw0cayHUjcVMIZstgmn0vpAnh/ORrqM/zbuCJ74LC3EDhYGfJMg9KQJFpFWkNs8lU54HAtKjzW2LMuWn/H1PYZJX68TMOGRlSZoYTiZ1lWedcPnwf5Goz8Nh6lgf6j6LeN98DZgD6ureau6aP7qByEgNFxQnNFJiDnjOcWr26vtp3Mw2XzVIbtsRzoLHG96JdOs4ud91M1b9q9%2b/VryjKqdROeHjR3ebhi6tQF7cegXJKBVZKqLdbko/sfJ3FJdPR3%2b/OU/6PTP/02vP3OmNbSRy1za37m/aZQAcx7djfYa/y3yWkiqzuIpwwVJ8Z9Ev%2bgxBj0QW7puMwz0dqeOS4bidW/yEjAg%3d%3d\n",
            "Resolving public.dm.files.1drv.com (public.dm.files.1drv.com)... 13.107.42.12\n",
            "Connecting to public.dm.files.1drv.com (public.dm.files.1drv.com)|13.107.42.12|:443... connected.\n",
            "HTTP request sent, awaiting response... 200 OK\n",
            "Length: 5368709120 (5.0G) [application/x-rar-compressed]\n",
            "Saving to: ‘Manually_Annotated.part10.rar’\n",
            "\n",
            "Manually_Annotated. 100%[===================>]   5.00G  25.9MB/s    in 8m 8s   \n",
            "\n",
            "2021-01-05 22:42:11 (10.5 MB/s) - ‘Manually_Annotated.part10.rar’ saved [5368709120/5368709120]\n",
            "\n"
          ],
          "name": "stdout"
        }
      ]
    },
    {
      "cell_type": "code",
      "metadata": {
        "colab": {
          "base_uri": "https://localhost:8080/"
        },
        "id": "8CM3qPIsW7KA",
        "outputId": "15c55386-77dc-48c3-b6c7-26d172fbce3a"
      },
      "source": [
        "#part 11\n",
        "!wget --header=\"Host: public.dm.files.1drv.com\" --header=\"User-Agent: Mozilla/5.0 (Windows NT 10.0; Win64; x64) AppleWebKit/537.36 (KHTML, like Gecko) Chrome/87.0.4280.88 Safari/537.36\" --header=\"Accept: text/html,application/xhtml+xml,application/xml;q=0.9,image/avif,image/webp,image/apng,*/*;q=0.8,application/signed-exchange;v=b3;q=0.9\" --header=\"Accept-Language: pl-PL,pl;q=0.9,en-US;q=0.8,en;q=0.7\" --header=\"Referer: https://onedrive.live.com/\" --header=\"Cookie: ANON=; NAP=; WLSRDSecAuth=FAByARQL3KgEDBNbW84gMYrDN0fBab7xkQNmAAAEgAAACNWsGToVJnQOMAEHP5M4BlRid9Y9FSrbvbzo%2ByPsZ4gVIdLc/kFlU4l/xNf7RqNvuNixd7KRYqLL0xEFqq0M5QSEkYDtxcA5uXKoE6PQV9pUG0CTieK%2Br9SsSDnOM58n7mFb/fCQdQQYORdZKNZhgBz1z7%2BJe%2BLbn2L72zOkJvPAuoITNn2GlGspV%2BZ8soMqqkPJYN9Obz7WdliV0a71iTrmALk/Ws7xGLjBTOfFHqeFKm%2Btu4DLjCirkad4mZYmE9NmWkdz43LMgwKTt3Pj9XgXZyCEZ1lWHwAYQLCaItCUkFO6Ic8HoEhrFnVtl54zzfKA%2BPZXc8XKM0%2BSSSx1kxJhnvs/EOGxGyM0jFT4HD/7U5wWjOS%2BN5uKmzMGLLw1QXrz%2BlQZ2GK%2Be/LGfmZsxgTmrpKwALZ%2B4grGFADrx68xhNUmhLFrGhWYEl22yBpICA%3D%3D\" --header=\"Connection: keep-alive\" \"https://public.dm.files.1drv.com/y4mEP1KT6yy2Bt52EzK2EEoEmQvdBQkqSplBqcuNB1zXPB5KbBpugPlApYFAgE7-4OnfrGAMT4WRMS77XD3h7yyVc5KO_P4mBjuDbk7cxp3LKET78uIWe3HefVfSlhK_BtzLCHjaJaNjWfm555K9ombBqc_bqIhI0VrSQH2TOFkmPHb19OLe1yHW0Gg3D_6CDUpFS3lv_wkK8GXpEy4WrJeMScswbJRZGsR1NZ2AE0KUVg?access_token=EwAQA61DBAAUmcDj0azQ5tf1lkBfAvHLBzXl5ugAAVSzt0ZJ8ILh8%2bTydZuUx19PdhVcnCe0tVV4wGvL7jEJ7xmbpGaffxUCp4gmFx1QzctcSqady%2b3RGRM68YNo6vqGjVPE/IXwoSUnqRZ77eOBIqtPSurWRXSd8pLrlFK%2bIHYuiZ%2bfUL79mx6q62FPlR32qKKARgf2lkAmgu1pj3qya5tOs4Lp6rs0epKlc/%2bliuVUHWqhhmvsqttcnc4ocbV7W9UUZIq99IbySZHs5/ARW/Z3uFEMv%2bTmdBNmHpOVMQA/nOXYpIJdZcgl2GM7DoMvLCh2wObc2HOy/8bTtVGWpd7Pcqdj8XCzN6TTaAnogwrgrSSEklJNkHLXbfA//dgDZgAACFBe9qa43eZu4AHEL3IMvATAE1DbALXTzivMnT72uhUWUrKgVwRJdC%2biP0FX1K3ZOZEcnnyM6amjMWRNmj9ei0%2bFi9iECLXEb6EoP8/8Z17%2buQH/9QraNl83LhrIC6wB7neCM2KNPPzvWGfQZJWDB9YHttzn1JnD8mXQQVCfjZ/LTY6/YFGtbaIZV205ypn%2b8a8u5uUrjqNQGNoTYUb7614kPoAU93Hgs4pTZzXuRaueWpoPHIvtCiVWILUmSyirdSFw6M0Gqp7XPyCZhIefGdq11J1DrMDFQNw0%2bfKEKnpYfQpSzH1tw0cayHUjcVMIZstgmn0vpAnh/ORrqM/zbuCJ74LC3EDhYGfJMg9KQJFpFWkNs8lU54HAtKjzW2LMuWn/H1PYZJX68TMOGRlSZoYTiZ1lWedcPnwf5Goz8Nh6lgf6j6LeN98DZgD6ureau6aP7qByEgNFxQnNFJiDnjOcWr26vtp3Mw2XzVIbtsRzoLHG96JdOs4ud91M1b9q9%2b/VryjKqdROeHjR3ebhi6tQF7cegXJKBVZKqLdbko/sfJ3FJdPR3%2b/OU/6PTP/02vP3OmNbSRy1za37m/aZQAcx7djfYa/y3yWkiqzuIpwwVJ8Z9Ev%2bgxBj0QW7puMwz0dqeOS4bidW/yEjAg%3d%3d\" -c -O 'Manually_Annotated.part11.rar'"
      ],
      "execution_count": null,
      "outputs": [
        {
          "output_type": "stream",
          "text": [
            "--2021-01-05 22:42:12--  https://public.dm.files.1drv.com/y4mEP1KT6yy2Bt52EzK2EEoEmQvdBQkqSplBqcuNB1zXPB5KbBpugPlApYFAgE7-4OnfrGAMT4WRMS77XD3h7yyVc5KO_P4mBjuDbk7cxp3LKET78uIWe3HefVfSlhK_BtzLCHjaJaNjWfm555K9ombBqc_bqIhI0VrSQH2TOFkmPHb19OLe1yHW0Gg3D_6CDUpFS3lv_wkK8GXpEy4WrJeMScswbJRZGsR1NZ2AE0KUVg?access_token=EwAQA61DBAAUmcDj0azQ5tf1lkBfAvHLBzXl5ugAAVSzt0ZJ8ILh8%2bTydZuUx19PdhVcnCe0tVV4wGvL7jEJ7xmbpGaffxUCp4gmFx1QzctcSqady%2b3RGRM68YNo6vqGjVPE/IXwoSUnqRZ77eOBIqtPSurWRXSd8pLrlFK%2bIHYuiZ%2bfUL79mx6q62FPlR32qKKARgf2lkAmgu1pj3qya5tOs4Lp6rs0epKlc/%2bliuVUHWqhhmvsqttcnc4ocbV7W9UUZIq99IbySZHs5/ARW/Z3uFEMv%2bTmdBNmHpOVMQA/nOXYpIJdZcgl2GM7DoMvLCh2wObc2HOy/8bTtVGWpd7Pcqdj8XCzN6TTaAnogwrgrSSEklJNkHLXbfA//dgDZgAACFBe9qa43eZu4AHEL3IMvATAE1DbALXTzivMnT72uhUWUrKgVwRJdC%2biP0FX1K3ZOZEcnnyM6amjMWRNmj9ei0%2bFi9iECLXEb6EoP8/8Z17%2buQH/9QraNl83LhrIC6wB7neCM2KNPPzvWGfQZJWDB9YHttzn1JnD8mXQQVCfjZ/LTY6/YFGtbaIZV205ypn%2b8a8u5uUrjqNQGNoTYUb7614kPoAU93Hgs4pTZzXuRaueWpoPHIvtCiVWILUmSyirdSFw6M0Gqp7XPyCZhIefGdq11J1DrMDFQNw0%2bfKEKnpYfQpSzH1tw0cayHUjcVMIZstgmn0vpAnh/ORrqM/zbuCJ74LC3EDhYGfJMg9KQJFpFWkNs8lU54HAtKjzW2LMuWn/H1PYZJX68TMOGRlSZoYTiZ1lWedcPnwf5Goz8Nh6lgf6j6LeN98DZgD6ureau6aP7qByEgNFxQnNFJiDnjOcWr26vtp3Mw2XzVIbtsRzoLHG96JdOs4ud91M1b9q9%2b/VryjKqdROeHjR3ebhi6tQF7cegXJKBVZKqLdbko/sfJ3FJdPR3%2b/OU/6PTP/02vP3OmNbSRy1za37m/aZQAcx7djfYa/y3yWkiqzuIpwwVJ8Z9Ev%2bgxBj0QW7puMwz0dqeOS4bidW/yEjAg%3d%3d\n",
            "Resolving public.dm.files.1drv.com (public.dm.files.1drv.com)... 13.107.42.12\n",
            "Connecting to public.dm.files.1drv.com (public.dm.files.1drv.com)|13.107.42.12|:443... connected.\n",
            "HTTP request sent, awaiting response... 200 OK\n",
            "Length: 3808702497 (3.5G) [application/x-rar-compressed]\n",
            "Saving to: ‘Manually_Annotated.part11.rar’\n",
            "\n",
            "Manually_Annotated. 100%[===================>]   3.55G  29.0MB/s    in 2m 27s  \n",
            "\n",
            "2021-01-05 22:44:39 (24.7 MB/s) - ‘Manually_Annotated.part11.rar’ saved [3808702497/3808702497]\n",
            "\n"
          ],
          "name": "stdout"
        }
      ]
    },
    {
      "cell_type": "code",
      "metadata": {
        "id": "NY1BL4JSrcSH"
      },
      "source": [
        "!mv /content/Manually_Annotated.part02.rar /content/drive/MyDrive/AffectNet"
      ],
      "execution_count": null,
      "outputs": []
    },
    {
      "cell_type": "code",
      "metadata": {
        "id": "bId9jeHdi96i"
      },
      "source": [
        "!cp /content/Manually_Annotated.part01.rar /content/drive/MyDrive/AffectNet"
      ],
      "execution_count": null,
      "outputs": []
    },
    {
      "cell_type": "code",
      "metadata": {
        "id": "_iMsMv9ejGIL"
      },
      "source": [
        "!mv /content/Manually_Annotated.part03.rar /content/drive/MyDrive/AffectNet"
      ],
      "execution_count": null,
      "outputs": []
    },
    {
      "cell_type": "code",
      "metadata": {
        "id": "4JUjACyCmofE"
      },
      "source": [
        "!mv /content/Manually_Annotated.part04.rar /content/drive/MyDrive/AffectNet\n",
        "!mv /content/Manually_Annotated.part05.rar /content/drive/MyDrive/AffectNet\n",
        "!mv /content/Manually_Annotated.part06.rar /content/drive/MyDrive/AffectNet\n",
        "!mv /content/Manually_Annotated.part07.rar /content/drive/MyDrive/AffectNet\n",
        "!mv /content/Manually_Annotated.part08.rar /content/drive/MyDrive/AffectNet\n",
        "!mv /content/Manually_Annotated.part09.rar /content/drive/MyDrive/AffectNet"
      ],
      "execution_count": null,
      "outputs": []
    }
  ]
}